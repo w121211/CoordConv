{
 "cells": [
  {
   "cell_type": "code",
   "execution_count": 1,
   "metadata": {},
   "outputs": [],
   "source": [
    "import os\n",
    "import numpy as np\n",
    "from PIL import Image, ImageDraw\n",
    "import torch\n",
    "import torch.nn as nn\n",
    "import torch.nn.modules.conv as conv\n",
    "import torch.utils.data as utils\n",
    "import torch.nn.functional as F\n",
    "from torchsummary import summary\n",
    "import matplotlib.pyplot as plt\n",
    "from sklearn.model_selection import train_test_split\n",
    "\n",
    "from coordconv import AddCoords\n",
    "from models.CornerNet import model\n",
    "\n",
    "# m = model()\n",
    "# x = torch.rand(2, 3, 64, 64)\n",
    "# m(x)"
   ]
  },
  {
   "cell_type": "code",
   "execution_count": 44,
   "metadata": {},
   "outputs": [
    {
     "name": "stdout",
     "output_type": "stream",
     "text": [
      "----------------------------------------------------------------\n",
      "        Layer (type)               Output Shape         Param #\n",
      "================================================================\n",
      "            Conv2d-1            [-1, 8, 64, 64]              80\n",
      "            Conv2d-2           [-1, 16, 64, 64]           1,168\n",
      "            Conv2d-3            [-1, 1, 64, 64]             145\n",
      "            Conv2d-4            [-1, 1, 64, 64]               2\n",
      "================================================================\n",
      "Total params: 1,395\n",
      "Trainable params: 1,395\n",
      "Non-trainable params: 0\n",
      "----------------------------------------------------------------\n",
      "Input size (MB): 0.02\n",
      "Forward/backward pass size (MB): 0.81\n",
      "Params size (MB): 0.01\n",
      "Estimated Total Size (MB): 0.83\n",
      "----------------------------------------------------------------\n"
     ]
    }
   ],
   "source": [
    "from torchsummary import summary\n",
    "\n",
    "class OnehotNet(nn.Module):\n",
    "    def __init__(self):\n",
    "        super(OnehotNet, self).__init__()\n",
    "        # self.coordconv = CoordConv2d(2, 32, 1, with_r=True)\n",
    "        self.conv1 = nn.Conv2d(1, 8, 3, padding=1)\n",
    "        self.conv2 = nn.Conv2d(8, 16, 3, padding=1)\n",
    "        self.conv3 = nn.Conv2d(16, 1, 3, padding=1)\n",
    "        self.conv4 = nn.Conv2d(1, 1, 1)\n",
    "\n",
    "    def forward(self, x):\n",
    "        # x = self.coordconv(x)\n",
    "        x = F.relu(self.conv1(x))\n",
    "        x = F.relu(self.conv2(x))\n",
    "        x = F.relu(self.conv3(x))\n",
    "        x = self.conv4(x)\n",
    "        x = x.view(-1, 64 * 64)\n",
    "        return x\n",
    "m = OnehotNet()\n",
    "summary(m, (1, 64, 64))"
   ]
  }
 ],
 "metadata": {
  "kernelspec": {
   "display_name": "Python 3",
   "language": "python",
   "name": "python3"
  },
  "language_info": {
   "codemirror_mode": {
    "name": "ipython",
    "version": 3
   },
   "file_extension": ".py",
   "mimetype": "text/x-python",
   "name": "python",
   "nbconvert_exporter": "python",
   "pygments_lexer": "ipython3",
   "version": "3.6.7"
  }
 },
 "nbformat": 4,
 "nbformat_minor": 2
}
