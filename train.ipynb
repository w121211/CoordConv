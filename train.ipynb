{
 "cells": [
  {
   "cell_type": "code",
   "execution_count": 11,
   "metadata": {},
   "outputs": [
    {
     "name": "stdout",
     "output_type": "stream",
     "text": [
      "/notebooks/CoordConv-pytorch/experiments/gan/munit\n",
      "Namespace(b1=0.5, b2=0.999, batch_size=64, channels=1, clip_value=0.01, img_size=28, latent_dim=100, lr=0.0002, n_cpu=8, n_critic=50, n_epochs=200, sample_interval=400)\n",
      "/miniconda/envs/py36/lib/python3.6/site-packages/torch/nn/functional.py:1374: UserWarning: nn.functional.tanh is deprecated. Use torch.tanh instead.\n",
      "  warnings.warn(\"nn.functional.tanh is deprecated. Use torch.tanh instead.\")\n",
      "0 0 1.0592478513717651\n",
      "tensor([0.3125, 0.5469, 0.6250, 0.8594])\n",
      "0 1 1.046953558921814\n",
      "tensor([0.4062, 0.6172, 0.7188, 0.9297])\n",
      "1 0 1.0350018739700317\n",
      "tensor([0.1562, 0.4062, 0.4688, 0.7188])\n",
      "1 1 1.02298104763031\n",
      "tensor([0.0391, 0.1016, 0.3516, 0.4141])\n",
      "2 0 1.010284662246704\n",
      "tensor([0.5078, 0.0234, 0.8203, 0.3359])\n",
      "2 1 0.9942588210105896\n",
      "tensor([0.3906, 0.3047, 0.7031, 0.6172])\n",
      "3 0 0.9684224724769592\n",
      "tensor([0.0078, 0.1797, 0.3203, 0.4922])\n",
      "3 1 0.9182800650596619\n",
      "tensor([0.2188, 0.6328, 0.5312, 0.9453])\n",
      "4 0 0.8261614441871643\n",
      "tensor([0.2578, 0.6016, 0.5703, 0.9141])\n",
      "4 1 0.6941970586776733\n",
      "tensor([0.3203, 0.1484, 0.6328, 0.4609])\n",
      "5 0 0.6135072708129883\n",
      "tensor([0.6797, 0.5547, 0.9922, 0.8672])\n",
      "5 1 0.582279622554779\n",
      "tensor([0.1094, 0.2266, 0.4219, 0.5391])\n",
      "6 0 0.5294728875160217\n",
      "tensor([0.4219, 0.0547, 0.7344, 0.3672])\n",
      "6 1 0.45961451530456543\n",
      "tensor([0.1562, 0.4062, 0.4688, 0.7188])\n",
      "^C\n",
      "Traceback (most recent call last):\n",
      "  File \"train_layout.py\", line 269, in <module>\n",
      "    train_renderer()\n",
      "  File \"train_layout.py\", line 141, in train_renderer\n",
      "    for i, (gt, x) in enumerate(dataloader):\n",
      "  File \"/miniconda/envs/py36/lib/python3.6/site-packages/torch/utils/data/dataloader.py\", line 560, in __next__\n",
      "    batch = self.collate_fn([self.dataset[i] for i in indices])\n",
      "  File \"/miniconda/envs/py36/lib/python3.6/site-packages/torch/utils/data/dataloader.py\", line 560, in <listcomp>\n",
      "    batch = self.collate_fn([self.dataset[i] for i in indices])\n",
      "  File \"/notebooks/CoordConv-pytorch/experiments/gan/munit/datasets.py\", line 46, in __getitem__\n",
      "    im = Image.open(self.files[index % len(self.files)])\n",
      "  File \"/miniconda/envs/py36/lib/python3.6/site-packages/PIL/Image.py\", line 2661, in open\n",
      "    prefix = fp.read(16)\n",
      "KeyboardInterrupt\n"
     ]
    }
   ],
   "source": [
    "%cd /notebooks/CoordConv-pytorch/experiments/gan/munit/\n",
    "!python train_layout.py"
   ]
  }
 ],
 "metadata": {
  "kernelspec": {
   "display_name": "Python 3",
   "language": "python",
   "name": "python3"
  },
  "language_info": {
   "codemirror_mode": {
    "name": "ipython",
    "version": 3
   },
   "file_extension": ".py",
   "mimetype": "text/x-python",
   "name": "python",
   "nbconvert_exporter": "python",
   "pygments_lexer": "ipython3",
   "version": "3.6.7"
  }
 },
 "nbformat": 4,
 "nbformat_minor": 2
}
