{
 "cells": [
  {
   "cell_type": "markdown",
   "metadata": {},
   "source": [
    "### Docker\n",
    "\n",
    "```bash\n",
    "sudo docker run --runtime=nvidia -d -it -p=8888:8888 --ipc=\"host\" -v=/home/chi/Documents:/tf tensorflow/tensorflow:2.0.0rc0-gpu-py3-jupyter\n",
    "sudo docker logs ...\n",
    "sudo docker start ...\n",
    "sudo docker exec -it ... /bin/bash\n",
    "```\n"
   ]
  },
  {
   "cell_type": "code",
   "execution_count": 23,
   "metadata": {},
   "outputs": [
    {
     "name": "stdout",
     "output_type": "stream",
     "text": [
      "/notebooks/CoordConv-pytorch/gan-textbox\n",
      "Elapsed [0:00:14.309097], G_step [10/1000000], D_step[10/1000000], d_out_real: 9.3402,  ave_gamma_l3: -0.0004, ave_gamma_l4: 0.0012\n",
      "Elapsed [0:00:28.054747], G_step [20/1000000], D_step[20/1000000], d_out_real: 10.6867,  ave_gamma_l3: -0.0002, ave_gamma_l4: 0.0020\n",
      "Elapsed [0:00:40.915381], G_step [30/1000000], D_step[30/1000000], d_out_real: 10.3284,  ave_gamma_l3: 0.0001, ave_gamma_l4: 0.0022\n",
      "Elapsed [0:00:52.494306], G_step [40/1000000], D_step[40/1000000], d_out_real: 9.4823,  ave_gamma_l3: 0.0003, ave_gamma_l4: 0.0026\n",
      "Elapsed [0:01:04.966150], G_step [50/1000000], D_step[50/1000000], d_out_real: 8.1328,  ave_gamma_l3: 0.0001, ave_gamma_l4: 0.0033\n",
      "Elapsed [0:01:16.631827], G_step [60/1000000], D_step[60/1000000], d_out_real: 10.9629,  ave_gamma_l3: -0.0001, ave_gamma_l4: 0.0038\n",
      "Elapsed [0:01:28.292398], G_step [70/1000000], D_step[70/1000000], d_out_real: 9.6951,  ave_gamma_l3: -0.0002, ave_gamma_l4: 0.0044\n",
      "Elapsed [0:01:40.297334], G_step [80/1000000], D_step[80/1000000], d_out_real: 9.6481,  ave_gamma_l3: -0.0000, ave_gamma_l4: 0.0056\n",
      "Elapsed [0:01:51.881081], G_step [90/1000000], D_step[90/1000000], d_out_real: 11.0725,  ave_gamma_l3: 0.0000, ave_gamma_l4: 0.0058\n",
      "Elapsed [0:02:03.931990], G_step [100/1000000], D_step[100/1000000], d_out_real: 10.3953,  ave_gamma_l3: 0.0001, ave_gamma_l4: 0.0063\n",
      "Elapsed [0:02:16.642325], G_step [110/1000000], D_step[110/1000000], d_out_real: 8.7036,  ave_gamma_l3: 0.0000, ave_gamma_l4: 0.0061\n",
      "Elapsed [0:02:28.102472], G_step [120/1000000], D_step[120/1000000], d_out_real: 10.3746,  ave_gamma_l3: -0.0001, ave_gamma_l4: 0.0062\n",
      "Elapsed [0:02:41.431062], G_step [130/1000000], D_step[130/1000000], d_out_real: 9.3306,  ave_gamma_l3: -0.0000, ave_gamma_l4: 0.0062\n",
      "Elapsed [0:02:54.673807], G_step [140/1000000], D_step[140/1000000], d_out_real: 10.0042,  ave_gamma_l3: -0.0001, ave_gamma_l4: 0.0066\n",
      "Elapsed [0:03:08.379408], G_step [150/1000000], D_step[150/1000000], d_out_real: 11.8825,  ave_gamma_l3: -0.0001, ave_gamma_l4: 0.0073\n",
      "Elapsed [0:03:22.186771], G_step [160/1000000], D_step[160/1000000], d_out_real: 9.9466,  ave_gamma_l3: -0.0000, ave_gamma_l4: 0.0078\n",
      "Elapsed [0:22:42.680053], G_step [170/1000000], D_step[170/1000000], d_out_real: 12.1671,  ave_gamma_l3: -0.0002, ave_gamma_l4: 0.0085\n",
      "Elapsed [0:22:56.172806], G_step [180/1000000], D_step[180/1000000], d_out_real: 10.3255,  ave_gamma_l3: 0.0003, ave_gamma_l4: 0.0092\n",
      "Elapsed [0:23:09.156434], G_step [190/1000000], D_step[190/1000000], d_out_real: 10.7213,  ave_gamma_l3: 0.0002, ave_gamma_l4: 0.0102\n",
      "Elapsed [0:23:21.496531], G_step [200/1000000], D_step[200/1000000], d_out_real: 11.0994,  ave_gamma_l3: -0.0001, ave_gamma_l4: 0.0108\n",
      "Elapsed [0:23:35.434545], G_step [210/1000000], D_step[210/1000000], d_out_real: 11.4067,  ave_gamma_l3: -0.0000, ave_gamma_l4: 0.0107\n",
      "Elapsed [0:23:48.774475], G_step [220/1000000], D_step[220/1000000], d_out_real: 12.8538,  ave_gamma_l3: -0.0000, ave_gamma_l4: 0.0102\n",
      "Elapsed [0:24:11.771599], G_step [230/1000000], D_step[230/1000000], d_out_real: 14.8899,  ave_gamma_l3: 0.0001, ave_gamma_l4: 0.0104\n",
      "Elapsed [0:24:35.001312], G_step [240/1000000], D_step[240/1000000], d_out_real: 21.0378,  ave_gamma_l3: 0.0000, ave_gamma_l4: 0.0102\n",
      "Elapsed [0:24:50.860506], G_step [250/1000000], D_step[250/1000000], d_out_real: 28.7084,  ave_gamma_l3: -0.0001, ave_gamma_l4: 0.0106\n",
      "Elapsed [0:25:05.347169], G_step [260/1000000], D_step[260/1000000], d_out_real: 19.2790,  ave_gamma_l3: -0.0000, ave_gamma_l4: 0.0110\n",
      "Elapsed [0:25:18.967114], G_step [270/1000000], D_step[270/1000000], d_out_real: 20.7394,  ave_gamma_l3: -0.0001, ave_gamma_l4: 0.0113\n",
      "Elapsed [0:25:33.230525], G_step [280/1000000], D_step[280/1000000], d_out_real: 20.9076,  ave_gamma_l3: -0.0001, ave_gamma_l4: 0.0107\n",
      "Elapsed [0:25:45.485992], G_step [290/1000000], D_step[290/1000000], d_out_real: 21.7135,  ave_gamma_l3: -0.0002, ave_gamma_l4: 0.0108\n",
      "Elapsed [0:25:57.776185], G_step [300/1000000], D_step[300/1000000], d_out_real: 18.2386,  ave_gamma_l3: -0.0002, ave_gamma_l4: 0.0106\n",
      "Elapsed [0:26:10.318651], G_step [310/1000000], D_step[310/1000000], d_out_real: 18.2008,  ave_gamma_l3: -0.0002, ave_gamma_l4: 0.0107\n",
      "Elapsed [0:26:27.607073], G_step [320/1000000], D_step[320/1000000], d_out_real: 22.1202,  ave_gamma_l3: -0.0001, ave_gamma_l4: 0.0108\n",
      "Elapsed [0:26:42.755967], G_step [330/1000000], D_step[330/1000000], d_out_real: 15.8457,  ave_gamma_l3: -0.0002, ave_gamma_l4: 0.0105\n",
      "Elapsed [0:26:54.740700], G_step [340/1000000], D_step[340/1000000], d_out_real: 18.2368,  ave_gamma_l3: -0.0002, ave_gamma_l4: 0.0106\n",
      "Elapsed [0:27:06.151213], G_step [350/1000000], D_step[350/1000000], d_out_real: 16.9697,  ave_gamma_l3: -0.0000, ave_gamma_l4: 0.0103\n",
      "Elapsed [0:27:19.303789], G_step [360/1000000], D_step[360/1000000], d_out_real: 22.2926,  ave_gamma_l3: -0.0003, ave_gamma_l4: 0.0108\n",
      "Elapsed [0:27:31.769360], G_step [370/1000000], D_step[370/1000000], d_out_real: 19.0925,  ave_gamma_l3: 0.0001, ave_gamma_l4: 0.0104\n",
      "Elapsed [0:27:46.774416], G_step [380/1000000], D_step[380/1000000], d_out_real: 12.2821,  ave_gamma_l3: -0.0001, ave_gamma_l4: 0.0110\n",
      "Elapsed [0:28:00.310825], G_step [390/1000000], D_step[390/1000000], d_out_real: 30.5822,  ave_gamma_l3: -0.0002, ave_gamma_l4: 0.0107\n",
      "Elapsed [0:28:13.183866], G_step [400/1000000], D_step[400/1000000], d_out_real: 29.0798,  ave_gamma_l3: -0.0001, ave_gamma_l4: 0.0108\n",
      "Elapsed [0:28:27.502732], G_step [410/1000000], D_step[410/1000000], d_out_real: 25.6762,  ave_gamma_l3: -0.0002, ave_gamma_l4: 0.0108\n",
      "Elapsed [0:28:41.860334], G_step [420/1000000], D_step[420/1000000], d_out_real: 28.9176,  ave_gamma_l3: -0.0002, ave_gamma_l4: 0.0110\n",
      "Elapsed [0:28:57.050777], G_step [430/1000000], D_step[430/1000000], d_out_real: 26.1660,  ave_gamma_l3: -0.0003, ave_gamma_l4: 0.0108\n",
      "Elapsed [0:29:11.875089], G_step [440/1000000], D_step[440/1000000], d_out_real: 24.1367,  ave_gamma_l3: -0.0001, ave_gamma_l4: 0.0109\n",
      "Elapsed [0:29:26.066624], G_step [450/1000000], D_step[450/1000000], d_out_real: 23.3704,  ave_gamma_l3: -0.0003, ave_gamma_l4: 0.0105\n",
      "Elapsed [0:29:43.890897], G_step [460/1000000], D_step[460/1000000], d_out_real: 26.9069,  ave_gamma_l3: -0.0005, ave_gamma_l4: 0.0112\n",
      "Elapsed [0:29:58.195854], G_step [470/1000000], D_step[470/1000000], d_out_real: 20.6623,  ave_gamma_l3: -0.0002, ave_gamma_l4: 0.0113\n",
      "Elapsed [0:30:11.621046], G_step [480/1000000], D_step[480/1000000], d_out_real: 23.3320,  ave_gamma_l3: -0.0001, ave_gamma_l4: 0.0108\n",
      "Elapsed [0:30:28.880503], G_step [490/1000000], D_step[490/1000000], d_out_real: 24.0764,  ave_gamma_l3: -0.0001, ave_gamma_l4: 0.0109\n",
      "Elapsed [0:30:48.164201], G_step [500/1000000], D_step[500/1000000], d_out_real: 25.7626,  ave_gamma_l3: -0.0004, ave_gamma_l4: 0.0112\n",
      "Elapsed [0:31:13.368822], G_step [510/1000000], D_step[510/1000000], d_out_real: 33.3556,  ave_gamma_l3: -0.0001, ave_gamma_l4: 0.0109\n",
      "Elapsed [0:31:32.131588], G_step [520/1000000], D_step[520/1000000], d_out_real: 34.6729,  ave_gamma_l3: -0.0002, ave_gamma_l4: 0.0110\n",
      "^C\n",
      "Traceback (most recent call last):\n",
      "  File \"train_toy_craft_layout.py\", line 388, in <module>\n",
      "    trainer.train()\n",
      "  File \"train_toy_craft_layout.py\", line 289, in train\n",
      "    fake_images, _, _ = self.G(z)\n",
      "  File \"/miniconda/envs/py36/lib/python3.6/site-packages/torch/nn/modules/module.py\", line 493, in __call__\n",
      "    result = self.forward(*input, **kwargs)\n",
      "  File \"/notebooks/CoordConv-pytorch/gan-textbox/models/sagan.py\", line 179, in forward\n",
      "    out = self.l1(z)\n",
      "  File \"/miniconda/envs/py36/lib/python3.6/site-packages/torch/nn/modules/module.py\", line 493, in __call__\n",
      "    result = self.forward(*input, **kwargs)\n",
      "  File \"/miniconda/envs/py36/lib/python3.6/site-packages/torch/nn/modules/container.py\", line 92, in forward\n",
      "    input = module(input)\n",
      "  File \"/miniconda/envs/py36/lib/python3.6/site-packages/torch/nn/modules/module.py\", line 493, in __call__\n",
      "    result = self.forward(*input, **kwargs)\n",
      "  File \"/notebooks/CoordConv-pytorch/gan-textbox/models/sagan.py\", line 69, in forward\n",
      "    self._update_u_v()\n",
      "  File \"/notebooks/CoordConv-pytorch/gan-textbox/models/sagan.py\", line 35, in _update_u_v\n",
      "    u.data = l2normalize(torch.mv(w.view(height, -1).data, v.data))\n",
      "KeyboardInterrupt\n"
     ]
    }
   ],
   "source": [
    "%cd /notebooks/CoordConv-pytorch/gan-textbox\n",
    "# !rm -R ./data/images/\n",
    "# !python train_toy_pasteline.py --img_size=64 --n_epochs=10000 --sample_interval=1000\n",
    "!python train_toy_craft_layout.py --imsize=64 --batch_size=1 --im_channels=1\n",
    "# --n_epochs=1000 --sample_interval=100"
   ]
  },
  {
   "cell_type": "code",
   "execution_count": 37,
   "metadata": {},
   "outputs": [
    {
     "name": "stdout",
     "output_type": "stream",
     "text": [
      "/notebooks/CoordConv-pytorch/font2img\n",
      "Monoton-Regular.ttf           :   0%|                     | 0/1 [00:00<?, ?it/s]\n",
      "  0%|                                                    | 0/26 [00:00<?, ?it/s]\u001b[A\n",
      "\u001b[A                                                                             \n",
      "                              :   0%|                    | 0/26 [00:00<?, ?it/s]\u001b[A\n",
      "                              :   4%|4           | 1/26 [00:00<00:03,  7.20it/s]\u001b[A\n",
      "\u001b[A                                                                             \n",
      "                              :   4%|4           | 1/26 [00:00<00:03,  7.20it/s]\u001b[A\n",
      "                              :   8%|9           | 2/26 [00:00<00:03,  7.30it/s]\u001b[A\n",
      "\u001b[A                                                                             \n",
      "                              :   8%|9           | 2/26 [00:00<00:03,  7.30it/s]\u001b[A\n",
      "                              :  12%|#3          | 3/26 [00:00<00:03,  7.44it/s]\u001b[A\n",
      "\u001b[A                                                                             \n",
      "                              :  12%|#3          | 3/26 [00:00<00:03,  7.44it/s]\u001b[A\n",
      "                              :  15%|#8          | 4/26 [00:00<00:02,  7.72it/s]\u001b[A\n",
      "\u001b[A                                                                             \n",
      "                              :  15%|#8          | 4/26 [00:00<00:02,  7.72it/s]\u001b[A\n",
      "                              :  19%|##3         | 5/26 [00:00<00:04,  4.75it/s]\u001b[A\n",
      "\u001b[A                                                                             \n",
      "                              :  19%|##3         | 5/26 [00:00<00:04,  4.75it/s]\u001b[A\n",
      "                              :  23%|##7         | 6/26 [00:01<00:04,  4.11it/s]\u001b[A\n",
      "\u001b[A                                                                             \n",
      "                              :  23%|##7         | 6/26 [00:01<00:04,  4.11it/s]\u001b[A\n",
      "                              :  27%|###2        | 7/26 [00:01<00:04,  3.98it/s]\u001b[A\n",
      "\u001b[A                                                                             \n",
      "                              :  27%|###2        | 7/26 [00:01<00:04,  3.98it/s]\u001b[A\n",
      "                              :  31%|###6        | 8/26 [00:01<00:04,  4.23it/s]\u001b[A\n",
      "\u001b[A                                                                             \n",
      "                              :  31%|###6        | 8/26 [00:01<00:04,  4.23it/s]\u001b[A\n",
      "                              :  35%|####1       | 9/26 [00:02<00:04,  3.86it/s]\u001b[A\n",
      "\u001b[A                                                                             \n",
      "                              :  35%|####1       | 9/26 [00:02<00:04,  3.86it/s]\u001b[A\n",
      "                              :  38%|####2      | 10/26 [00:02<00:04,  3.93it/s]\u001b[A\n",
      "\u001b[A                                                                             \n",
      "                              :  38%|####2      | 10/26 [00:02<00:04,  3.93it/s]\u001b[A\n",
      "                              :  42%|####6      | 11/26 [00:02<00:03,  4.55it/s]\u001b[A\n",
      "\u001b[A                                                                             \n",
      "                              :  42%|####6      | 11/26 [00:02<00:03,  4.55it/s]\u001b[A\n",
      "                              :  46%|#####      | 12/26 [00:02<00:02,  5.16it/s]\u001b[A\n",
      "\u001b[A                                                                             \n",
      "                              :  46%|#####      | 12/26 [00:02<00:02,  5.16it/s]\u001b[A\n",
      "                              :  50%|#####5     | 13/26 [00:02<00:02,  5.63it/s]\u001b[A\n",
      "\u001b[A                                                                             \n",
      "                              :  50%|#####5     | 13/26 [00:02<00:02,  5.63it/s]\u001b[A\n",
      "\u001b[A                                                                             \n",
      "                              :  50%|#####5     | 13/26 [00:02<00:02,  5.63it/s]\u001b[A\n",
      "                              :  58%|######3    | 15/26 [00:02<00:01,  6.38it/s]\u001b[A\n",
      "\u001b[A                                                                             \n",
      "                              :  58%|######3    | 15/26 [00:02<00:01,  6.38it/s]\u001b[A\n",
      "                              :  62%|######7    | 16/26 [00:03<00:01,  6.23it/s]\u001b[A\n",
      "\u001b[A                                                                             \n",
      "                              :  62%|######7    | 16/26 [00:03<00:01,  6.23it/s]\u001b[A\n",
      "                              :  65%|#######1   | 17/26 [00:03<00:01,  6.04it/s]\u001b[A\n",
      "\u001b[A                                                                             \n",
      "                              :  65%|#######1   | 17/26 [00:03<00:01,  6.04it/s]\u001b[A\n",
      "                              :  69%|#######6   | 18/26 [00:03<00:01,  5.10it/s]\u001b[A\n",
      "\u001b[A                                                                             \n",
      "                              :  69%|#######6   | 18/26 [00:03<00:01,  5.10it/s]\u001b[A\n",
      "                              :  73%|########   | 19/26 [00:03<00:01,  4.58it/s]\u001b[A\n",
      "\u001b[A                                                                             \n",
      "                              :  73%|########   | 19/26 [00:03<00:01,  4.58it/s]\u001b[A\n",
      "                              :  77%|########4  | 20/26 [00:03<00:01,  4.79it/s]\u001b[A\n",
      "\u001b[A                                                                             \n",
      "                              :  77%|########4  | 20/26 [00:03<00:01,  4.79it/s]\u001b[A\n",
      "                              :  81%|########8  | 21/26 [00:04<00:00,  5.08it/s]\u001b[A\n",
      "\u001b[A                                                                             \n",
      "                              :  81%|########8  | 21/26 [00:04<00:00,  5.08it/s]\u001b[A\n",
      "                              :  85%|#########3 | 22/26 [00:04<00:00,  4.58it/s]\u001b[A\n",
      "\u001b[A                                                                             \n",
      "                              :  85%|#########3 | 22/26 [00:04<00:00,  4.58it/s]\u001b[A\n",
      "                              :  88%|#########7 | 23/26 [00:04<00:00,  4.45it/s]\u001b[A\n",
      "\u001b[A                                                                             \n",
      "                              :  88%|#########7 | 23/26 [00:04<00:00,  4.45it/s]\u001b[A\n",
      "                              :  92%|##########1| 24/26 [00:04<00:00,  4.97it/s]\u001b[A\n",
      "\u001b[A                                                                             \n",
      "                              :  92%|##########1| 24/26 [00:04<00:00,  4.97it/s]\u001b[A\n",
      "                              :  96%|##########5| 25/26 [00:05<00:00,  4.25it/s]\u001b[A\n",
      "\u001b[A                                                                             \n",
      "                              :  96%|##########5| 25/26 [00:05<00:00,  4.25it/s]\u001b[A\n",
      "Monoton-Regular.ttf           : 100%|#############| 1/1 [00:05<00:00,  5.43s/it]\u001b[A\n"
     ]
    }
   ],
   "source": [
    "# create font image dataset\n",
    "%cd /notebooks/CoordConv-pytorch/font2img\n",
    "!python font2img.py \\\n",
    "    /notebooks/post-generator/asset/fonts_en/Monoton \\\n",
    "    /notebooks/CoordConv-pytorch/font2img/src_chars_txt/alphabets_hankaku_caps.txt \\\n",
    "    /notebooks/CoordConv-pytorch/data/fontimg\n",
    "#     --by-char\n",
    "\n",
    "# train Char-GAN\n",
    "# %cd /notebooks/CoordConv-pytorch/gan-char\n",
    "# !python train.py --sample_interval 30"
   ]
  },
  {
   "cell_type": "code",
   "execution_count": 10,
   "metadata": {},
   "outputs": [
    {
     "name": "stdout",
     "output_type": "stream",
     "text": [
      "/notebooks/CoordConv-pytorch/gan-textbox\n",
      "Namespace(b1=0.5, b2=0.999, batch_size=1, channels=3, checkpoint_interval=-1, dataset_name='edges2shoes', decay_epoch=100, dim=64, epoch=0, img_height=128, img_width=128, lr=0.0001, n_cpu=8, n_downsample=2, n_epochs=200, n_residual=3, sample_interval=400, style_dim=8)\n",
      "[Epoch 0/200] [Batch 0/598] [D loss: 2.003732] [G loss: 65.044090] ETA: 34 days, 4:43:34.767075^C\n"
     ]
    }
   ],
   "source": [
    "%cd /notebooks/CoordConv-pytorch/gan-textbox\n",
    "!python train_font_transfer.py --batch_size=1"
   ]
  },
  {
   "cell_type": "code",
   "execution_count": 11,
   "metadata": {},
   "outputs": [
    {
     "name": "stdout",
     "output_type": "stream",
     "text": [
      "/notebooks/CoordConv-pytorch/experiments/gan/munit\n",
      "Namespace(b1=0.5, b2=0.999, batch_size=64, channels=1, clip_value=0.01, data_path='data/layout', img_size=64, latent_dim=4, lr=0.0002, model_path='saved_models/95000.pt', n_cpu=8, n_critic=1, n_epochs=100000, sample_interval=100)\n",
      "[Epoch 0/100000] [Batch 0/2] [D loss: 8.145257] [G loss: 7.907234]\n",
      "^C\n",
      "Traceback (most recent call last):\n",
      "  File \"train_layout_by_params.py\", line 351, in <module>\n",
      "    train_wgan()\n",
      "  File \"train_layout_by_params.py\", line 307, in train_wgan\n",
      "    discriminator, real_imgs.data, fake_imgs.data\n",
      "  File \"/notebooks/CoordConv-pytorch/experiments/gan/munit/models.py\", line 467, in compute_gradient_penalty\n",
      "    gradient_penalty = ((gradients.norm(2, dim=1) - 1) ** 2).mean()\n",
      "  File \"/miniconda/envs/py36/lib/python3.6/site-packages/torch/tensor.py\", line 253, in norm\n",
      "    return torch.norm(self, p, dim, keepdim, dtype=dtype)\n",
      "  File \"/miniconda/envs/py36/lib/python3.6/site-packages/torch/functional.py\", line 705, in norm\n",
      "    return torch._C._VariableFunctions.norm(input, p, dim, keepdim=keepdim)\n",
      "KeyboardInterrupt\n"
     ]
    }
   ],
   "source": [
    "%cd /notebooks/CoordConv-pytorch/experiments/gan/munit\n",
    "!rm -R data\n",
    "!rm -R images\n",
    "# !rm -R saved_models\n",
    "!python train_layout_by_params.py --n_epochs=100000 --latent_dim=4 --channels=1 --img_size=64 --n_critic=1 --sample_interval=100"
   ]
  },
  {
   "cell_type": "code",
   "execution_count": 12,
   "metadata": {},
   "outputs": [
    {
     "data": {
      "text/plain": [
       "4"
      ]
     },
     "execution_count": 12,
     "metadata": {},
     "output_type": "execute_result"
    }
   ],
   "source": [
    "18//4"
   ]
  }
 ],
 "metadata": {
  "kernelspec": {
   "display_name": "Python 3",
   "language": "python",
   "name": "python3"
  },
  "language_info": {
   "codemirror_mode": {
    "name": "ipython",
    "version": 3
   },
   "file_extension": ".py",
   "mimetype": "text/x-python",
   "name": "python",
   "nbconvert_exporter": "python",
   "pygments_lexer": "ipython3",
   "version": "3.6.7"
  }
 },
 "nbformat": 4,
 "nbformat_minor": 2
}
