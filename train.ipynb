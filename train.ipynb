{
 "cells": [
  {
   "cell_type": "code",
   "execution_count": 89,
   "metadata": {},
   "outputs": [
    {
     "name": "stdout",
     "output_type": "stream",
     "text": [
      "/notebooks/CoordConv-pytorch\n",
      "Namespace(b1=0.5, b2=0.999, batch_size=1, channels=3, clip_value=0.01, data_path='data/regressor', img_size=64, latent_dim=10, lr=0.0002, model_path='saved_models/95000.pt', n_cpu=8, n_critic=50, n_epochs=100, n_strokes=3, sample_interval=400)\n",
      "/miniconda/envs/py36/lib/python3.6/site-packages/torch/nn/functional.py:2528: UserWarning: Default upsampling behavior when mode=bilinear is changed to align_corners=False since 0.4.0. Please specify align_corners=True if the old behavior is desired. See the documentation of nn.Upsample for details.\n",
      "  \"See the documentation of nn.Upsample for details.\".format(mode))\n",
      "[Epoch 0/100] [Batch 0/30] [loss: 0.069988]\n",
      "^C\n",
      "Traceback (most recent call last):\n",
      "  File \"/miniconda/envs/py36/lib/python3.6/runpy.py\", line 193, in _run_module_as_main\n",
      "    \"__main__\", mod_spec)\n",
      "  File \"/miniconda/envs/py36/lib/python3.6/runpy.py\", line 85, in _run_code\n",
      "    exec(code, run_globals)\n",
      "  File \"/notebooks/CoordConv-pytorch/experiments/regressor/train_shape.py\", line 306, in <module>\n",
      "    train(dataloader)\n",
      "  File \"/notebooks/CoordConv-pytorch/experiments/regressor/train_shape.py\", line 264, in train\n",
      "    x = model(im_current, im_target)\n",
      "  File \"/miniconda/envs/py36/lib/python3.6/site-packages/torch/nn/modules/module.py\", line 493, in __call__\n",
      "    result = self.forward(*input, **kwargs)\n",
      "  File \"/notebooks/CoordConv-pytorch/experiments/regressor/train_shape.py\", line 158, in forward\n",
      "    x1 = self.hr1(im_target)\n",
      "  File \"/miniconda/envs/py36/lib/python3.6/site-packages/torch/nn/modules/module.py\", line 493, in __call__\n",
      "    result = self.forward(*input, **kwargs)\n",
      "  File \"/notebooks/CoordConv-pytorch/experiments/models/hrnet.py\", line 428, in forward\n",
      "    y_list = self.stage3(x_list)\n",
      "  File \"/miniconda/envs/py36/lib/python3.6/site-packages/torch/nn/modules/module.py\", line 493, in __call__\n",
      "    result = self.forward(*input, **kwargs)\n",
      "  File \"/miniconda/envs/py36/lib/python3.6/site-packages/torch/nn/modules/container.py\", line 92, in forward\n",
      "    input = module(input)\n",
      "  File \"/miniconda/envs/py36/lib/python3.6/site-packages/torch/nn/modules/module.py\", line 493, in __call__\n",
      "    result = self.forward(*input, **kwargs)\n",
      "  File \"/notebooks/CoordConv-pytorch/experiments/models/hrnet.py\", line 229, in forward\n",
      "    x[i] = self.branches[i](x[i])\n",
      "  File \"/miniconda/envs/py36/lib/python3.6/site-packages/torch/nn/modules/module.py\", line 493, in __call__\n",
      "    result = self.forward(*input, **kwargs)\n",
      "  File \"/miniconda/envs/py36/lib/python3.6/site-packages/torch/nn/modules/container.py\", line 92, in forward\n",
      "    input = module(input)\n",
      "  File \"/miniconda/envs/py36/lib/python3.6/site-packages/torch/nn/modules/module.py\", line 493, in __call__\n",
      "    result = self.forward(*input, **kwargs)\n",
      "  File \"/notebooks/CoordConv-pytorch/experiments/models/hrnet.py\", line 47, in forward\n",
      "    out = self.conv1(x)\n",
      "  File \"/miniconda/envs/py36/lib/python3.6/site-packages/torch/nn/modules/module.py\", line 493, in __call__\n",
      "    result = self.forward(*input, **kwargs)\n",
      "  File \"/miniconda/envs/py36/lib/python3.6/site-packages/torch/nn/modules/conv.py\", line 338, in forward\n",
      "    self.padding, self.dilation, self.groups)\n",
      "KeyboardInterrupt\n"
     ]
    }
   ],
   "source": [
    "%cd /notebooks/CoordConv-pytorch/\n",
    "!rm -R data/regressor\n",
    "!python -m experiments.regressor.train_shape --img_size=64 --batch_size=1 --n_epochs=100 --n_strokes=3"
   ]
  },
  {
   "cell_type": "code",
   "execution_count": 65,
   "metadata": {},
   "outputs": [
    {
     "name": "stdout",
     "output_type": "stream",
     "text": [
      "/notebooks/CoordConv-pytorch/experiments/gan/munit\n",
      "Namespace(b1=0.5, b2=0.999, batch_size=64, channels=1, clip_value=0.01, data_path='data/layout', img_size=64, latent_dim=4, lr=0.0002, model_path='saved_models/95000.pt', n_cpu=8, n_critic=1, n_epochs=100000, sample_interval=100)\n",
      "[Epoch 0/100000] [Batch 0/1] [D loss: 7.959727] [G loss: 10.037612]\n",
      "[Epoch 100/100000] [Batch 0/1] [D loss: -20.445877] [G loss: 1.710520]\n",
      "[Epoch 200/100000] [Batch 0/1] [D loss: -2.766628] [G loss: 3.130843]\n",
      "[Epoch 300/100000] [Batch 0/1] [D loss: -1.626384] [G loss: -3.134868]\n",
      "[Epoch 400/100000] [Batch 0/1] [D loss: -3.010446] [G loss: -2.922170]\n",
      "[Epoch 500/100000] [Batch 0/1] [D loss: -0.434553] [G loss: 1.187312]\n",
      "[Epoch 600/100000] [Batch 0/1] [D loss: -1.060011] [G loss: 1.198974]\n",
      "[Epoch 700/100000] [Batch 0/1] [D loss: 0.118041] [G loss: 6.224486]\n",
      "[Epoch 800/100000] [Batch 0/1] [D loss: -0.669772] [G loss: 1.493773]\n",
      "[Epoch 900/100000] [Batch 0/1] [D loss: 0.103961] [G loss: -5.356470]\n",
      "^C\n",
      "Traceback (most recent call last):\n",
      "  File \"train_layout.py\", line 292, in <module>\n",
      "    train_wgan()\n",
      "  File \"train_layout.py\", line 256, in train_wgan\n",
      "    d_loss.backward()\n",
      "  File \"/miniconda/envs/py36/lib/python3.6/site-packages/torch/tensor.py\", line 107, in backward\n",
      "    torch.autograd.backward(self, gradient, retain_graph, create_graph)\n",
      "  File \"/miniconda/envs/py36/lib/python3.6/site-packages/torch/autograd/__init__.py\", line 93, in backward\n",
      "    allow_unreachable=True)  # allow_unreachable flag\n",
      "KeyboardInterrupt\n"
     ]
    }
   ],
   "source": [
    "%cd /notebooks/CoordConv-pytorch/experiments/gan/munit\n",
    "!rm -R data\n",
    "!rm -R images\n",
    "# !rm -R saved_models\n",
    "!python train_layout.py --n_epochs=100000 --latent_dim=4 --channels=1 --img_size=64 --n_critic=1 --sample_interval=100"
   ]
  },
  {
   "cell_type": "code",
   "execution_count": 12,
   "metadata": {},
   "outputs": [
    {
     "data": {
      "text/plain": [
       "4"
      ]
     },
     "execution_count": 12,
     "metadata": {},
     "output_type": "execute_result"
    }
   ],
   "source": [
    "18//4"
   ]
  }
 ],
 "metadata": {
  "kernelspec": {
   "display_name": "Python 3",
   "language": "python",
   "name": "python3"
  },
  "language_info": {
   "codemirror_mode": {
    "name": "ipython",
    "version": 3
   },
   "file_extension": ".py",
   "mimetype": "text/x-python",
   "name": "python",
   "nbconvert_exporter": "python",
   "pygments_lexer": "ipython3",
   "version": "3.6.7"
  }
 },
 "nbformat": 4,
 "nbformat_minor": 2
}
