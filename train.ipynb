{
 "cells": [
  {
   "cell_type": "markdown",
   "metadata": {},
   "source": [
    "### Docker\n",
    "\n",
    "```bash\n",
    "sudo docker run --runtime=nvidia -d -it --rm -p=8888:8888 --ipc=\"host\" -v=/home/chi/Documents:/tf tensorflow/tensorflow:2.0.0rc0-gpu-py3-jupyter\n",
    "sudo docker logs ...\n",
    "sudo docker start ...\n",
    "sudo docker exec -it ... /bin/bash\n",
    "```\n"
   ]
  },
  {
   "cell_type": "code",
   "execution_count": 11,
   "metadata": {},
   "outputs": [
    {
     "name": "stdout",
     "output_type": "stream",
     "text": [
      "/notebooks/CoordConv-pytorch/gan-textbox\n",
      "Namespace(b1=0.5, b2=0.999, batch_size=64, channels=1, clip_value=0.01, data_path='data/layout', img_size=64, latent_dim=10, lr=0.0002, model_path='saved_models/95000.pt', n_cpu=8, n_critic=50, n_epochs=200, sample_interval=400)\n",
      "[Epoch 0/200] [Batch 0/2] [D loss: 8.181931] [G loss: 0.071838]\n",
      "tensor([26.2847, 34.8410], grad_fn=<SelectBackward>)\n",
      "[Epoch 8/200] [Batch 0/2] [D loss: -4.030709] [G loss: 2.268535]\n",
      "tensor([27.1419, 35.6031], grad_fn=<SelectBackward>)\n",
      "[Epoch 16/200] [Batch 0/2] [D loss: -9.370255] [G loss: 5.008334]\n",
      "tensor([28.1940, 36.4914], grad_fn=<SelectBackward>)\n",
      "[Epoch 24/200] [Batch 0/2] [D loss: -9.616585] [G loss: 5.165176]\n",
      "tensor([29.0184, 37.0904], grad_fn=<SelectBackward>)\n",
      "[Epoch 32/200] [Batch 0/2] [D loss: -9.506098] [G loss: 4.849552]\n",
      "tensor([30.2663, 37.9889], grad_fn=<SelectBackward>)\n",
      "[Epoch 40/200] [Batch 0/2] [D loss: -8.929195] [G loss: 4.268219]\n",
      "tensor([31.7005, 39.2088], grad_fn=<SelectBackward>)\n",
      "[Epoch 48/200] [Batch 0/2] [D loss: -8.872463] [G loss: 3.885680]\n",
      "tensor([36.6074, 42.7928], grad_fn=<SelectBackward>)\n",
      "[Epoch 56/200] [Batch 0/2] [D loss: -8.502428] [G loss: 3.385185]\n",
      "tensor([34.1147, 40.8043], grad_fn=<SelectBackward>)\n",
      "[Epoch 64/200] [Batch 0/2] [D loss: -8.117661] [G loss: 2.943330]\n",
      "tensor([38.3429, 43.9289], grad_fn=<SelectBackward>)\n",
      "[Epoch 72/200] [Batch 0/2] [D loss: -8.014898] [G loss: 2.719519]\n",
      "tensor([42.4269, 46.8757], grad_fn=<SelectBackward>)\n",
      "[Epoch 80/200] [Batch 0/2] [D loss: -7.779178] [G loss: 2.203129]\n",
      "tensor([43.1226, 47.1476], grad_fn=<SelectBackward>)\n",
      "[Epoch 88/200] [Batch 0/2] [D loss: -7.876443] [G loss: 2.091723]\n",
      "tensor([49.7376, 51.6611], grad_fn=<SelectBackward>)\n",
      "[Epoch 96/200] [Batch 0/2] [D loss: -7.572683] [G loss: 1.805193]\n",
      "tensor([39.7610, 44.5700], grad_fn=<SelectBackward>)\n",
      "^C\n",
      "Traceback (most recent call last):\n",
      "  File \"train_toy_pasteline.py\", line 309, in <module>\n",
      "    train_wgan()\n",
      "  File \"train_toy_pasteline.py\", line 243, in train_wgan\n",
      "    for i, (real_imgs, text_status, chars, char_sizes) in enumerate(dataloader):\n",
      "  File \"/miniconda/envs/py36/lib/python3.6/site-packages/torch/utils/data/dataloader.py\", line 560, in __next__\n",
      "    batch = self.collate_fn([self.dataset[i] for i in indices])\n",
      "  File \"/miniconda/envs/py36/lib/python3.6/site-packages/torch/utils/data/dataloader.py\", line 560, in <listcomp>\n",
      "    batch = self.collate_fn([self.dataset[i] for i in indices])\n",
      "  File \"train_toy_pasteline.py\", line 184, in __getitem__\n",
      "    text[: self.max_chars], self.font, self.font_size, self.out_size\n",
      "  File \"train_toy_pasteline.py\", line 152, in text_to_char_images\n",
      "    font = ImageFont.truetype(font, font_size)\n",
      "  File \"/miniconda/envs/py36/lib/python3.6/site-packages/PIL/ImageFont.py\", line 280, in truetype\n",
      "    return FreeTypeFont(font, size, index, encoding, layout_engine)\n",
      "  File \"/miniconda/envs/py36/lib/python3.6/site-packages/PIL/ImageFont.py\", line 145, in __init__\n",
      "    layout_engine=layout_engine)\n",
      "KeyboardInterrupt\n"
     ]
    }
   ],
   "source": [
    "%cd /notebooks/CoordConv-pytorch/gan-textbox\n",
    "!python train_toy_pasteline.py --img_size=64"
   ]
  },
  {
   "cell_type": "code",
   "execution_count": 7,
   "metadata": {},
   "outputs": [],
   "source": [
    "# create font image dataset\n",
    "# %cd /notebooks/CoordConv-pytorch/font2img\n",
    "# !python font2img.py \\\n",
    "#     /notebooks/post-generator/asset/fonts_en/Alegreya \\\n",
    "#     /notebooks/CoordConv-pytorch/font2img/src_chars_txt/alphabets_hankaku_caps.txt \\\n",
    "#     /notebooks/CoordConv-pytorch/data/fontimg\n",
    "#     --by-char\n",
    "\n",
    "# train Char-GAN\n",
    "# %cd /notebooks/CoordConv-pytorch/gan-char\n",
    "# !python train.py --sample_interval 30"
   ]
  },
  {
   "cell_type": "code",
   "execution_count": 13,
   "metadata": {},
   "outputs": [
    {
     "name": "stdout",
     "output_type": "stream",
     "text": [
      "/notebooks/CoordConv-pytorch/gan-textbox\n",
      "Namespace(b1=0.5, b2=0.999, batch_size=1, channels=3, checkpoint_interval=-1, dataset_name='edges2shoes', decay_epoch=100, dim=64, epoch=0, img_height=128, img_width=128, lr=0.0001, n_cpu=8, n_downsample=2, n_epochs=200, n_residual=3, sample_interval=400, style_dim=8)\n",
      "[Epoch 0/200] [Batch 4/234] [D loss: 6.972351] [G loss: 15.614893] ETA: 7 days, 6:19:33.33554340^C\n",
      "Traceback (most recent call last):\n",
      "  File \"train_char_transfer_gan.py\", line 353, in <module>\n",
      "    optimizer_G.step()\n",
      "  File \"/miniconda/envs/py36/lib/python3.6/site-packages/torch/optim/adam.py\", line 101, in step\n",
      "    denom = exp_avg_sq.sqrt().add_(group['eps'])\n",
      "KeyboardInterrupt\n"
     ]
    }
   ],
   "source": [
    "%cd /notebooks/CoordConv-pytorch/gan-textbox\n",
    "!python train_char_transfer_gan.py \n",
    "# !rm -R data/regressor\n",
    "# !python -m experiments.regressor.train_shape --img_size=64 --n_epochs=100 --n_strokes=4 --sample_interval=10 --n_samples=10\n",
    "# !python train_toy_pasteline.py --batch_size=1"
   ]
  },
  {
   "cell_type": "code",
   "execution_count": 11,
   "metadata": {},
   "outputs": [
    {
     "name": "stdout",
     "output_type": "stream",
     "text": [
      "/notebooks/CoordConv-pytorch/experiments/gan/munit\n",
      "Namespace(b1=0.5, b2=0.999, batch_size=64, channels=1, clip_value=0.01, data_path='data/layout', img_size=64, latent_dim=4, lr=0.0002, model_path='saved_models/95000.pt', n_cpu=8, n_critic=1, n_epochs=100000, sample_interval=100)\n",
      "[Epoch 0/100000] [Batch 0/2] [D loss: 8.145257] [G loss: 7.907234]\n",
      "^C\n",
      "Traceback (most recent call last):\n",
      "  File \"train_layout_by_params.py\", line 351, in <module>\n",
      "    train_wgan()\n",
      "  File \"train_layout_by_params.py\", line 307, in train_wgan\n",
      "    discriminator, real_imgs.data, fake_imgs.data\n",
      "  File \"/notebooks/CoordConv-pytorch/experiments/gan/munit/models.py\", line 467, in compute_gradient_penalty\n",
      "    gradient_penalty = ((gradients.norm(2, dim=1) - 1) ** 2).mean()\n",
      "  File \"/miniconda/envs/py36/lib/python3.6/site-packages/torch/tensor.py\", line 253, in norm\n",
      "    return torch.norm(self, p, dim, keepdim, dtype=dtype)\n",
      "  File \"/miniconda/envs/py36/lib/python3.6/site-packages/torch/functional.py\", line 705, in norm\n",
      "    return torch._C._VariableFunctions.norm(input, p, dim, keepdim=keepdim)\n",
      "KeyboardInterrupt\n"
     ]
    }
   ],
   "source": [
    "%cd /notebooks/CoordConv-pytorch/experiments/gan/munit\n",
    "!rm -R data\n",
    "!rm -R images\n",
    "# !rm -R saved_models\n",
    "!python train_layout_by_params.py --n_epochs=100000 --latent_dim=4 --channels=1 --img_size=64 --n_critic=1 --sample_interval=100"
   ]
  },
  {
   "cell_type": "code",
   "execution_count": 12,
   "metadata": {},
   "outputs": [
    {
     "data": {
      "text/plain": [
       "4"
      ]
     },
     "execution_count": 12,
     "metadata": {},
     "output_type": "execute_result"
    }
   ],
   "source": [
    "18//4"
   ]
  }
 ],
 "metadata": {
  "kernelspec": {
   "display_name": "Python 3",
   "language": "python",
   "name": "python3"
  },
  "language_info": {
   "codemirror_mode": {
    "name": "ipython",
    "version": 3
   },
   "file_extension": ".py",
   "mimetype": "text/x-python",
   "name": "python",
   "nbconvert_exporter": "python",
   "pygments_lexer": "ipython3",
   "version": "3.6.7"
  }
 },
 "nbformat": 4,
 "nbformat_minor": 2
}
