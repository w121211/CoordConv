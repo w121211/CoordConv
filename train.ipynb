{
 "cells": [
  {
   "cell_type": "code",
   "execution_count": 96,
   "metadata": {},
   "outputs": [
    {
     "name": "stdout",
     "output_type": "stream",
     "text": [
      "/notebooks/CoordConv-pytorch\n",
      "Namespace(b1=0.5, b2=0.999, batch_size=64, channels=3, clip_value=0.01, data_path='data/regressor', img_size=64, latent_dim=10, lr=0.0002, model_path='saved_models/95000.pt', n_cpu=8, n_critic=50, n_epochs=100, n_samples=10, n_strokes=4, sample_interval=10)\n",
      "/miniconda/envs/py36/lib/python3.6/site-packages/torch/nn/functional.py:2528: UserWarning: Default upsampling behavior when mode=bilinear is changed to align_corners=False since 0.4.0. Please specify align_corners=True if the old behavior is desired. See the documentation of nn.Upsample for details.\n",
      "  \"See the documentation of nn.Upsample for details.\".format(mode))\n",
      "[Epoch 0/100] [Batch 0/1] [loss: 0.242820]\n",
      "[Epoch 10/100] [Batch 0/1] [loss: 0.023926]\n",
      "[Epoch 20/100] [Batch 0/1] [loss: 0.006229]\n",
      "[Epoch 30/100] [Batch 0/1] [loss: 0.001412]\n",
      "^C\n"
     ]
    }
   ],
   "source": [
    "%cd /notebooks/CoordConv-pytorch/\n",
    "!rm -R data/regressor\n",
    "!python -m experiments.regressor.train_shape --img_size=64 --n_epochs=100 --n_strokes=4 --sample_interval=10 --n_samples=10"
   ]
  },
  {
   "cell_type": "code",
   "execution_count": 11,
   "metadata": {},
   "outputs": [
    {
     "name": "stdout",
     "output_type": "stream",
     "text": [
      "/notebooks/CoordConv-pytorch/experiments/gan/munit\n",
      "Namespace(b1=0.5, b2=0.999, batch_size=64, channels=1, clip_value=0.01, data_path='data/layout', img_size=64, latent_dim=4, lr=0.0002, model_path='saved_models/95000.pt', n_cpu=8, n_critic=1, n_epochs=100000, sample_interval=100)\n",
      "[Epoch 0/100000] [Batch 0/2] [D loss: 8.145257] [G loss: 7.907234]\n",
      "^C\n",
      "Traceback (most recent call last):\n",
      "  File \"train_layout_by_params.py\", line 351, in <module>\n",
      "    train_wgan()\n",
      "  File \"train_layout_by_params.py\", line 307, in train_wgan\n",
      "    discriminator, real_imgs.data, fake_imgs.data\n",
      "  File \"/notebooks/CoordConv-pytorch/experiments/gan/munit/models.py\", line 467, in compute_gradient_penalty\n",
      "    gradient_penalty = ((gradients.norm(2, dim=1) - 1) ** 2).mean()\n",
      "  File \"/miniconda/envs/py36/lib/python3.6/site-packages/torch/tensor.py\", line 253, in norm\n",
      "    return torch.norm(self, p, dim, keepdim, dtype=dtype)\n",
      "  File \"/miniconda/envs/py36/lib/python3.6/site-packages/torch/functional.py\", line 705, in norm\n",
      "    return torch._C._VariableFunctions.norm(input, p, dim, keepdim=keepdim)\n",
      "KeyboardInterrupt\n"
     ]
    }
   ],
   "source": [
    "%cd /notebooks/CoordConv-pytorch/experiments/gan/munit\n",
    "!rm -R data\n",
    "!rm -R images\n",
    "# !rm -R saved_models\n",
    "!python train_layout_by_params.py --n_epochs=100000 --latent_dim=4 --channels=1 --img_size=64 --n_critic=1 --sample_interval=100"
   ]
  },
  {
   "cell_type": "code",
   "execution_count": 12,
   "metadata": {},
   "outputs": [
    {
     "data": {
      "text/plain": [
       "4"
      ]
     },
     "execution_count": 12,
     "metadata": {},
     "output_type": "execute_result"
    }
   ],
   "source": [
    "18//4"
   ]
  }
 ],
 "metadata": {
  "kernelspec": {
   "display_name": "Python 3",
   "language": "python",
   "name": "python3"
  },
  "language_info": {
   "codemirror_mode": {
    "name": "ipython",
    "version": 3
   },
   "file_extension": ".py",
   "mimetype": "text/x-python",
   "name": "python",
   "nbconvert_exporter": "python",
   "pygments_lexer": "ipython3",
   "version": "3.6.7"
  }
 },
 "nbformat": 4,
 "nbformat_minor": 2
}
