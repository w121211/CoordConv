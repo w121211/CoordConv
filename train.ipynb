{
 "cells": [
  {
   "cell_type": "markdown",
   "metadata": {},
   "source": [
    "### Docker\n",
    "\n",
    "```bash\n",
    "sudo docker run --runtime=nvidia -d -it -p=8888:8888 --ipc=\"host\" -v=/home/chi/Documents:/tf tensorflow/tensorflow:2.0.0rc0-gpu-py3-jupyter\n",
    "sudo docker logs ...\n",
    "sudo docker start ...\n",
    "sudo docker exec -it ... /bin/bash\n",
    "```\n"
   ]
  },
  {
   "cell_type": "code",
   "execution_count": null,
   "metadata": {},
   "outputs": [
    {
     "name": "stdout",
     "output_type": "stream",
     "text": [
      "/notebooks/CoordConv-pytorch/gan-textbox\n",
      "rm: cannot remove './out/samples/': No such file or directory\n",
      "Train Epoch: 0 Loss: -30074.232422\n"
     ]
    }
   ],
   "source": [
    "%cd /notebooks/CoordConv-pytorch/gan-textbox\n",
    "!rm -R ./out/samples/\n",
    "!python train_toy_param_mnist_vae.py --imsize=28 --im_channels=1 --batch_size=64 --n_critic=5"
   ]
  },
  {
   "cell_type": "code",
   "execution_count": 14,
   "metadata": {},
   "outputs": [
    {
     "name": "stdout",
     "output_type": "stream",
     "text": [
      "/notebooks/CoordConv-pytorch/gan-textbox\n",
      "torch.Size([1, 1, 128, 128])\n",
      "torch.Size([1, 1, 128, 128])\n",
      "torch.Size([1, 1, 128, 128])\n",
      "torch.Size([1, 1, 128, 128])\n",
      "torch.Size([1, 1, 128, 128])\n",
      "torch.Size([1, 1, 128, 128])\n",
      "torch.Size([1, 1, 128, 128])\n",
      "torch.Size([1, 1, 128, 128])\n",
      "torch.Size([1, 1, 128, 128])\n",
      "torch.Size([1, 1, 128, 128])\n",
      "Elapsed [0:00:21.213985], G_step [10/1000000], D_step[10/1000000], d_out_real: 0.0000, \n",
      "torch.Size([1, 1, 128, 128])\n",
      "^C\n",
      "Traceback (most recent call last):\n",
      "  File \"train_toy_param_font.py\", line 347, in <module>\n",
      "    trainer.train()\n",
      "  File \"train_toy_param_font.py\", line 199, in train\n",
      "    fake_images = self.G(z, c_code.detach())\n",
      "  File \"/miniconda/envs/py36/lib/python3.6/site-packages/torch/nn/modules/module.py\", line 493, in __call__\n",
      "    result = self.forward(*input, **kwargs)\n",
      "  File \"train_toy_param_font.py\", line 71, in forward\n",
      "    x = self.dec(content_code, style_code)\n",
      "  File \"/miniconda/envs/py36/lib/python3.6/site-packages/torch/nn/modules/module.py\", line 493, in __call__\n",
      "    result = self.forward(*input, **kwargs)\n",
      "  File \"/notebooks/CoordConv-pytorch/gan-textbox/models/munit.py\", line 104, in forward\n",
      "    img = self.model(content_code)\n",
      "  File \"/miniconda/envs/py36/lib/python3.6/site-packages/torch/nn/modules/module.py\", line 493, in __call__\n",
      "    result = self.forward(*input, **kwargs)\n",
      "  File \"/miniconda/envs/py36/lib/python3.6/site-packages/torch/nn/modules/container.py\", line 92, in forward\n",
      "    input = module(input)\n",
      "  File \"/miniconda/envs/py36/lib/python3.6/site-packages/torch/nn/modules/module.py\", line 493, in __call__\n",
      "    result = self.forward(*input, **kwargs)\n",
      "  File \"/notebooks/CoordConv-pytorch/gan-textbox/models/munit.py\", line 261, in forward\n",
      "    return x + self.block(x)\n",
      "  File \"/miniconda/envs/py36/lib/python3.6/site-packages/torch/nn/modules/module.py\", line 493, in __call__\n",
      "    result = self.forward(*input, **kwargs)\n",
      "  File \"/miniconda/envs/py36/lib/python3.6/site-packages/torch/nn/modules/container.py\", line 92, in forward\n",
      "    input = module(input)\n",
      "  File \"/miniconda/envs/py36/lib/python3.6/site-packages/torch/nn/modules/module.py\", line 493, in __call__\n",
      "    result = self.forward(*input, **kwargs)\n",
      "  File \"/miniconda/envs/py36/lib/python3.6/site-packages/torch/nn/modules/conv.py\", line 338, in forward\n",
      "    self.padding, self.dilation, self.groups)\n",
      "KeyboardInterrupt\n"
     ]
    }
   ],
   "source": [
    "%cd /notebooks/CoordConv-pytorch/gan-textbox\n",
    "# %cd /content/CoordConv/gan-textbox\n",
    "\n",
    "# !rm -R ./out/samples/\n",
    "# !python train_toy_craft_layout.py --imsize=64 --batch_size=1 --im_channels=1 --adv_loss=hinge\n",
    "\n",
    "# !rm -R ./images\n",
    "# !python train_font_transfer.py --batch_size=16 --checkpoint_interval=4000 --n_epoch=1000\n",
    "# !python train_toy_pasteline.py --img_size=64 --n_epochs=10000 --sample_interval=1000\n",
    "\n",
    "!rm -R ./out/samples/\n",
    "!python train_toy_param_font.py --imsize=128 --batch_size=1 --im_channels=1 --adv_loss=hinge"
   ]
  },
  {
   "cell_type": "code",
   "execution_count": 37,
   "metadata": {},
   "outputs": [
    {
     "name": "stdout",
     "output_type": "stream",
     "text": [
      "/notebooks/CoordConv-pytorch/font2img\n",
      "Monoton-Regular.ttf           :   0%|                     | 0/1 [00:00<?, ?it/s]\n",
      "  0%|                                                    | 0/26 [00:00<?, ?it/s]\u001b[A\n",
      "\u001b[A                                                                             \n",
      "                              :   0%|                    | 0/26 [00:00<?, ?it/s]\u001b[A\n",
      "                              :   4%|4           | 1/26 [00:00<00:03,  7.20it/s]\u001b[A\n",
      "\u001b[A                                                                             \n",
      "                              :   4%|4           | 1/26 [00:00<00:03,  7.20it/s]\u001b[A\n",
      "                              :   8%|9           | 2/26 [00:00<00:03,  7.30it/s]\u001b[A\n",
      "\u001b[A                                                                             \n",
      "                              :   8%|9           | 2/26 [00:00<00:03,  7.30it/s]\u001b[A\n",
      "                              :  12%|#3          | 3/26 [00:00<00:03,  7.44it/s]\u001b[A\n",
      "\u001b[A                                                                             \n",
      "                              :  12%|#3          | 3/26 [00:00<00:03,  7.44it/s]\u001b[A\n",
      "                              :  15%|#8          | 4/26 [00:00<00:02,  7.72it/s]\u001b[A\n",
      "\u001b[A                                                                             \n",
      "                              :  15%|#8          | 4/26 [00:00<00:02,  7.72it/s]\u001b[A\n",
      "                              :  19%|##3         | 5/26 [00:00<00:04,  4.75it/s]\u001b[A\n",
      "\u001b[A                                                                             \n",
      "                              :  19%|##3         | 5/26 [00:00<00:04,  4.75it/s]\u001b[A\n",
      "                              :  23%|##7         | 6/26 [00:01<00:04,  4.11it/s]\u001b[A\n",
      "\u001b[A                                                                             \n",
      "                              :  23%|##7         | 6/26 [00:01<00:04,  4.11it/s]\u001b[A\n",
      "                              :  27%|###2        | 7/26 [00:01<00:04,  3.98it/s]\u001b[A\n",
      "\u001b[A                                                                             \n",
      "                              :  27%|###2        | 7/26 [00:01<00:04,  3.98it/s]\u001b[A\n",
      "                              :  31%|###6        | 8/26 [00:01<00:04,  4.23it/s]\u001b[A\n",
      "\u001b[A                                                                             \n",
      "                              :  31%|###6        | 8/26 [00:01<00:04,  4.23it/s]\u001b[A\n",
      "                              :  35%|####1       | 9/26 [00:02<00:04,  3.86it/s]\u001b[A\n",
      "\u001b[A                                                                             \n",
      "                              :  35%|####1       | 9/26 [00:02<00:04,  3.86it/s]\u001b[A\n",
      "                              :  38%|####2      | 10/26 [00:02<00:04,  3.93it/s]\u001b[A\n",
      "\u001b[A                                                                             \n",
      "                              :  38%|####2      | 10/26 [00:02<00:04,  3.93it/s]\u001b[A\n",
      "                              :  42%|####6      | 11/26 [00:02<00:03,  4.55it/s]\u001b[A\n",
      "\u001b[A                                                                             \n",
      "                              :  42%|####6      | 11/26 [00:02<00:03,  4.55it/s]\u001b[A\n",
      "                              :  46%|#####      | 12/26 [00:02<00:02,  5.16it/s]\u001b[A\n",
      "\u001b[A                                                                             \n",
      "                              :  46%|#####      | 12/26 [00:02<00:02,  5.16it/s]\u001b[A\n",
      "                              :  50%|#####5     | 13/26 [00:02<00:02,  5.63it/s]\u001b[A\n",
      "\u001b[A                                                                             \n",
      "                              :  50%|#####5     | 13/26 [00:02<00:02,  5.63it/s]\u001b[A\n",
      "\u001b[A                                                                             \n",
      "                              :  50%|#####5     | 13/26 [00:02<00:02,  5.63it/s]\u001b[A\n",
      "                              :  58%|######3    | 15/26 [00:02<00:01,  6.38it/s]\u001b[A\n",
      "\u001b[A                                                                             \n",
      "                              :  58%|######3    | 15/26 [00:02<00:01,  6.38it/s]\u001b[A\n",
      "                              :  62%|######7    | 16/26 [00:03<00:01,  6.23it/s]\u001b[A\n",
      "\u001b[A                                                                             \n",
      "                              :  62%|######7    | 16/26 [00:03<00:01,  6.23it/s]\u001b[A\n",
      "                              :  65%|#######1   | 17/26 [00:03<00:01,  6.04it/s]\u001b[A\n",
      "\u001b[A                                                                             \n",
      "                              :  65%|#######1   | 17/26 [00:03<00:01,  6.04it/s]\u001b[A\n",
      "                              :  69%|#######6   | 18/26 [00:03<00:01,  5.10it/s]\u001b[A\n",
      "\u001b[A                                                                             \n",
      "                              :  69%|#######6   | 18/26 [00:03<00:01,  5.10it/s]\u001b[A\n",
      "                              :  73%|########   | 19/26 [00:03<00:01,  4.58it/s]\u001b[A\n",
      "\u001b[A                                                                             \n",
      "                              :  73%|########   | 19/26 [00:03<00:01,  4.58it/s]\u001b[A\n",
      "                              :  77%|########4  | 20/26 [00:03<00:01,  4.79it/s]\u001b[A\n",
      "\u001b[A                                                                             \n",
      "                              :  77%|########4  | 20/26 [00:03<00:01,  4.79it/s]\u001b[A\n",
      "                              :  81%|########8  | 21/26 [00:04<00:00,  5.08it/s]\u001b[A\n",
      "\u001b[A                                                                             \n",
      "                              :  81%|########8  | 21/26 [00:04<00:00,  5.08it/s]\u001b[A\n",
      "                              :  85%|#########3 | 22/26 [00:04<00:00,  4.58it/s]\u001b[A\n",
      "\u001b[A                                                                             \n",
      "                              :  85%|#########3 | 22/26 [00:04<00:00,  4.58it/s]\u001b[A\n",
      "                              :  88%|#########7 | 23/26 [00:04<00:00,  4.45it/s]\u001b[A\n",
      "\u001b[A                                                                             \n",
      "                              :  88%|#########7 | 23/26 [00:04<00:00,  4.45it/s]\u001b[A\n",
      "                              :  92%|##########1| 24/26 [00:04<00:00,  4.97it/s]\u001b[A\n",
      "\u001b[A                                                                             \n",
      "                              :  92%|##########1| 24/26 [00:04<00:00,  4.97it/s]\u001b[A\n",
      "                              :  96%|##########5| 25/26 [00:05<00:00,  4.25it/s]\u001b[A\n",
      "\u001b[A                                                                             \n",
      "                              :  96%|##########5| 25/26 [00:05<00:00,  4.25it/s]\u001b[A\n",
      "Monoton-Regular.ttf           : 100%|#############| 1/1 [00:05<00:00,  5.43s/it]\u001b[A\n"
     ]
    }
   ],
   "source": [
    "# create font image dataset\n",
    "%cd /notebooks/CoordConv-pytorch/font2img\n",
    "!python font2img.py \\\n",
    "    /notebooks/post-generator/asset/fonts_en/Monoton \\\n",
    "    /notebooks/CoordConv-pytorch/font2img/src_chars_txt/alphabets_hankaku_caps.txt \\\n",
    "    /notebooks/CoordConv-pytorch/data/fontimg\n",
    "#     --by-char\n",
    "\n",
    "# train Char-GAN\n",
    "# %cd /notebooks/CoordConv-pytorch/gan-char\n",
    "# !python train.py --sample_interval 30"
   ]
  },
  {
   "cell_type": "code",
   "execution_count": 10,
   "metadata": {},
   "outputs": [
    {
     "name": "stdout",
     "output_type": "stream",
     "text": [
      "/notebooks/CoordConv-pytorch/gan-textbox\n",
      "Namespace(b1=0.5, b2=0.999, batch_size=1, channels=3, checkpoint_interval=-1, dataset_name='edges2shoes', decay_epoch=100, dim=64, epoch=0, img_height=128, img_width=128, lr=0.0001, n_cpu=8, n_downsample=2, n_epochs=200, n_residual=3, sample_interval=400, style_dim=8)\n",
      "[Epoch 0/200] [Batch 0/598] [D loss: 2.003732] [G loss: 65.044090] ETA: 34 days, 4:43:34.767075^C\n"
     ]
    }
   ],
   "source": [
    "%cd /notebooks/CoordConv-pytorch/gan-textbox\n",
    "!python train_font_transfer.py --batch_size=1"
   ]
  },
  {
   "cell_type": "code",
   "execution_count": 11,
   "metadata": {},
   "outputs": [
    {
     "name": "stdout",
     "output_type": "stream",
     "text": [
      "/notebooks/CoordConv-pytorch/experiments/gan/munit\n",
      "Namespace(b1=0.5, b2=0.999, batch_size=64, channels=1, clip_value=0.01, data_path='data/layout', img_size=64, latent_dim=4, lr=0.0002, model_path='saved_models/95000.pt', n_cpu=8, n_critic=1, n_epochs=100000, sample_interval=100)\n",
      "[Epoch 0/100000] [Batch 0/2] [D loss: 8.145257] [G loss: 7.907234]\n",
      "^C\n",
      "Traceback (most recent call last):\n",
      "  File \"train_layout_by_params.py\", line 351, in <module>\n",
      "    train_wgan()\n",
      "  File \"train_layout_by_params.py\", line 307, in train_wgan\n",
      "    discriminator, real_imgs.data, fake_imgs.data\n",
      "  File \"/notebooks/CoordConv-pytorch/experiments/gan/munit/models.py\", line 467, in compute_gradient_penalty\n",
      "    gradient_penalty = ((gradients.norm(2, dim=1) - 1) ** 2).mean()\n",
      "  File \"/miniconda/envs/py36/lib/python3.6/site-packages/torch/tensor.py\", line 253, in norm\n",
      "    return torch.norm(self, p, dim, keepdim, dtype=dtype)\n",
      "  File \"/miniconda/envs/py36/lib/python3.6/site-packages/torch/functional.py\", line 705, in norm\n",
      "    return torch._C._VariableFunctions.norm(input, p, dim, keepdim=keepdim)\n",
      "KeyboardInterrupt\n"
     ]
    }
   ],
   "source": [
    "%cd /notebooks/CoordConv-pytorch/experiments/gan/munit\n",
    "!rm -R data\n",
    "!rm -R images\n",
    "# !rm -R saved_models\n",
    "!python train_layout_by_params.py --n_epochs=100000 --latent_dim=4 --channels=1 --img_size=64 --n_critic=1 --sample_interval=100"
   ]
  },
  {
   "cell_type": "code",
   "execution_count": 12,
   "metadata": {},
   "outputs": [
    {
     "data": {
      "text/plain": [
       "4"
      ]
     },
     "execution_count": 12,
     "metadata": {},
     "output_type": "execute_result"
    }
   ],
   "source": [
    "18//4"
   ]
  }
 ],
 "metadata": {
  "kernelspec": {
   "display_name": "Python 3",
   "language": "python",
   "name": "python3"
  },
  "language_info": {
   "codemirror_mode": {
    "name": "ipython",
    "version": 3
   },
   "file_extension": ".py",
   "mimetype": "text/x-python",
   "name": "python",
   "nbconvert_exporter": "python",
   "pygments_lexer": "ipython3",
   "version": "3.6.7"
  }
 },
 "nbformat": 4,
 "nbformat_minor": 2
}
