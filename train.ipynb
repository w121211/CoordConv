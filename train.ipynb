{
 "cells": [
  {
   "cell_type": "code",
   "execution_count": 38,
   "metadata": {},
   "outputs": [
    {
     "name": "stdout",
     "output_type": "stream",
     "text": [
      "/notebooks/CoordConv-pytorch/experiments/gan/munit\n",
      "Namespace(b1=0.5, b2=0.999, batch_size=64, channels=1, clip_value=0.01, img_size=28, latent_dim=100, lr=0.0002, n_cpu=8, n_critic=50, n_epochs=200, sample_interval=400)\n",
      "[Epoch 0/200] [Batch 0/16] [D loss: 8.168471] [G loss: -0.010981]\n",
      "[Epoch 1/200] [Batch 0/16] [D loss: -23.107355] [G loss: -0.005092]\n",
      "[Epoch 2/200] [Batch 0/16] [D loss: -35.549686] [G loss: 0.030970]\n",
      "[Epoch 3/200] [Batch 0/16] [D loss: -36.748550] [G loss: 0.069132]\n",
      "[Epoch 4/200] [Batch 0/16] [D loss: -35.173763] [G loss: 0.110343]\n",
      "[Epoch 5/200] [Batch 0/16] [D loss: -35.959320] [G loss: 0.124922]\n",
      "[Epoch 6/200] [Batch 0/16] [D loss: -35.940960] [G loss: 0.026224]\n",
      "[Epoch 7/200] [Batch 0/16] [D loss: -35.943810] [G loss: -0.113826]\n",
      "[Epoch 8/200] [Batch 0/16] [D loss: -36.354324] [G loss: -0.231741]\n",
      "[Epoch 9/200] [Batch 0/16] [D loss: -36.176517] [G loss: -0.338978]\n",
      "[Epoch 10/200] [Batch 0/16] [D loss: -34.943855] [G loss: -0.422692]\n",
      "[Epoch 11/200] [Batch 0/16] [D loss: -36.143890] [G loss: -0.549420]\n",
      "[Epoch 12/200] [Batch 0/16] [D loss: -35.933952] [G loss: -0.678927]\n",
      "[Epoch 13/200] [Batch 0/16] [D loss: -36.525917] [G loss: -0.811867]\n",
      "[Epoch 14/200] [Batch 0/16] [D loss: -36.070694] [G loss: -0.936434]\n",
      "[Epoch 15/200] [Batch 0/16] [D loss: -35.968479] [G loss: -1.082876]\n",
      "[Epoch 16/200] [Batch 0/16] [D loss: -36.670883] [G loss: -1.299524]\n",
      "[Epoch 17/200] [Batch 0/16] [D loss: -36.656303] [G loss: -1.527058]\n",
      "[Epoch 18/200] [Batch 0/16] [D loss: -36.500187] [G loss: -1.733944]\n",
      "[Epoch 19/200] [Batch 0/16] [D loss: -36.265770] [G loss: -1.984831]\n",
      "[Epoch 20/200] [Batch 0/16] [D loss: -35.457371] [G loss: -2.151501]\n",
      "[Epoch 21/200] [Batch 0/16] [D loss: -35.337357] [G loss: -2.408987]\n",
      "[Epoch 22/200] [Batch 0/16] [D loss: -34.934669] [G loss: -2.806597]\n",
      "[Epoch 23/200] [Batch 0/16] [D loss: -35.132492] [G loss: -3.206057]\n",
      "[Epoch 24/200] [Batch 0/16] [D loss: -34.641796] [G loss: -3.517789]\n",
      "[Epoch 25/200] [Batch 0/16] [D loss: -34.290344] [G loss: -3.964481]\n",
      "[Epoch 26/200] [Batch 0/16] [D loss: -33.848743] [G loss: -4.317336]\n",
      "[Epoch 27/200] [Batch 0/16] [D loss: -33.294640] [G loss: -4.868372]\n",
      "[Epoch 28/200] [Batch 0/16] [D loss: -32.802586] [G loss: -5.376385]\n",
      "[Epoch 29/200] [Batch 0/16] [D loss: -32.143894] [G loss: -5.927278]\n",
      "[Epoch 30/200] [Batch 0/16] [D loss: -31.322151] [G loss: -6.613949]\n",
      "[Epoch 31/200] [Batch 0/16] [D loss: -31.390959] [G loss: -7.272094]\n",
      "[Epoch 32/200] [Batch 0/16] [D loss: -31.054478] [G loss: -7.565223]\n",
      "[Epoch 33/200] [Batch 0/16] [D loss: -30.753147] [G loss: -7.870564]\n",
      "[Epoch 34/200] [Batch 0/16] [D loss: -29.854918] [G loss: -9.128792]\n",
      "[Epoch 35/200] [Batch 0/16] [D loss: -29.312622] [G loss: -9.707502]\n",
      "[Epoch 36/200] [Batch 0/16] [D loss: -28.038372] [G loss: -10.575653]\n",
      "[Epoch 37/200] [Batch 0/16] [D loss: -26.385653] [G loss: -11.727192]\n",
      "[Epoch 38/200] [Batch 0/16] [D loss: -25.490398] [G loss: -12.815253]\n",
      "[Epoch 39/200] [Batch 0/16] [D loss: -24.603588] [G loss: -13.439042]\n",
      "[Epoch 40/200] [Batch 0/16] [D loss: -21.881201] [G loss: -15.057700]\n",
      "[Epoch 41/200] [Batch 0/16] [D loss: -20.491203] [G loss: -15.698864]\n",
      "[Epoch 42/200] [Batch 0/16] [D loss: -20.110102] [G loss: -16.273033]\n",
      "[Epoch 43/200] [Batch 0/16] [D loss: -19.295748] [G loss: -16.826818]\n",
      "[Epoch 44/200] [Batch 0/16] [D loss: -17.912006] [G loss: -16.267059]\n",
      "[Epoch 45/200] [Batch 0/16] [D loss: -16.853043] [G loss: -17.106331]\n",
      "[Epoch 46/200] [Batch 0/16] [D loss: -17.077560] [G loss: -17.608950]\n",
      "[Epoch 47/200] [Batch 0/16] [D loss: -15.402356] [G loss: -16.706249]\n",
      "[Epoch 48/200] [Batch 0/16] [D loss: -13.257934] [G loss: -16.920109]\n",
      "[Epoch 49/200] [Batch 0/16] [D loss: -14.203481] [G loss: -16.744961]\n",
      "[Epoch 50/200] [Batch 0/16] [D loss: -14.009743] [G loss: -15.892605]\n",
      "[Epoch 51/200] [Batch 0/16] [D loss: -13.654075] [G loss: -14.216736]\n",
      "[Epoch 52/200] [Batch 0/16] [D loss: -13.493462] [G loss: -14.274365]\n",
      "[Epoch 53/200] [Batch 0/16] [D loss: -12.999891] [G loss: -14.420546]\n",
      "[Epoch 54/200] [Batch 0/16] [D loss: -13.210890] [G loss: -12.134583]\n",
      "[Epoch 55/200] [Batch 0/16] [D loss: -13.282157] [G loss: -13.009401]\n",
      "[Epoch 56/200] [Batch 0/16] [D loss: -11.832419] [G loss: -12.488199]\n",
      "[Epoch 57/200] [Batch 0/16] [D loss: -12.392265] [G loss: -12.739247]\n",
      "[Epoch 58/200] [Batch 0/16] [D loss: -11.958388] [G loss: -11.371326]\n",
      "[Epoch 59/200] [Batch 0/16] [D loss: -12.368490] [G loss: -13.184855]\n",
      "[Epoch 60/200] [Batch 0/16] [D loss: -12.471405] [G loss: -11.748222]\n",
      "[Epoch 61/200] [Batch 0/16] [D loss: -11.580545] [G loss: -9.359238]\n",
      "[Epoch 62/200] [Batch 0/16] [D loss: -11.992138] [G loss: -12.314558]\n",
      "[Epoch 63/200] [Batch 0/16] [D loss: -10.660396] [G loss: -10.540039]\n",
      "[Epoch 64/200] [Batch 0/16] [D loss: -10.929913] [G loss: -8.458397]\n",
      "[Epoch 65/200] [Batch 0/16] [D loss: -12.181256] [G loss: -9.905174]\n",
      "[Epoch 66/200] [Batch 0/16] [D loss: -11.930874] [G loss: -9.791244]\n",
      "[Epoch 67/200] [Batch 0/16] [D loss: -12.285900] [G loss: -12.086608]\n",
      "[Epoch 68/200] [Batch 0/16] [D loss: -11.646730] [G loss: -9.149716]\n",
      "[Epoch 69/200] [Batch 0/16] [D loss: -11.689636] [G loss: -7.801377]\n",
      "[Epoch 70/200] [Batch 0/16] [D loss: -12.331153] [G loss: -8.018296]\n",
      "[Epoch 71/200] [Batch 0/16] [D loss: -11.031702] [G loss: -9.281766]\n",
      "[Epoch 72/200] [Batch 0/16] [D loss: -10.983009] [G loss: -6.961390]\n",
      "[Epoch 73/200] [Batch 0/16] [D loss: -11.200307] [G loss: -7.564284]\n",
      "[Epoch 74/200] [Batch 0/16] [D loss: -11.311258] [G loss: -9.006041]\n",
      "[Epoch 75/200] [Batch 0/16] [D loss: -11.947396] [G loss: -8.976063]\n",
      "[Epoch 76/200] [Batch 0/16] [D loss: -11.012754] [G loss: -9.814562]\n",
      "[Epoch 77/200] [Batch 0/16] [D loss: -11.347215] [G loss: -10.480618]\n",
      "[Epoch 78/200] [Batch 0/16] [D loss: -10.913282] [G loss: -7.622930]\n",
      "[Epoch 79/200] [Batch 0/16] [D loss: -11.411418] [G loss: -9.598396]\n",
      "^C\n",
      "Traceback (most recent call last):\n",
      "  File \"train_layout.py\", line 272, in <module>\n",
      "    train_wgan()\n",
      "  File \"train_layout.py\", line 210, in train_wgan\n",
      "    fake_imgs = generator(z)\n",
      "  File \"/miniconda/envs/py36/lib/python3.6/site-packages/torch/nn/modules/module.py\", line 493, in __call__\n",
      "    result = self.forward(*input, **kwargs)\n",
      "  File \"/notebooks/CoordConv-pytorch/experiments/gan/munit/models.py\", line 357, in forward\n",
      "    img = self.model(z)\n",
      "  File \"/miniconda/envs/py36/lib/python3.6/site-packages/torch/nn/modules/module.py\", line 493, in __call__\n",
      "    result = self.forward(*input, **kwargs)\n",
      "  File \"/miniconda/envs/py36/lib/python3.6/site-packages/torch/nn/modules/container.py\", line 92, in forward\n",
      "    input = module(input)\n",
      "  File \"/miniconda/envs/py36/lib/python3.6/site-packages/torch/nn/modules/module.py\", line 493, in __call__\n",
      "    result = self.forward(*input, **kwargs)\n",
      "  File \"/miniconda/envs/py36/lib/python3.6/site-packages/torch/nn/modules/linear.py\", line 92, in forward\n",
      "    return F.linear(input, self.weight, self.bias)\n",
      "  File \"/miniconda/envs/py36/lib/python3.6/site-packages/torch/nn/functional.py\", line 1406, in linear\n",
      "    ret = torch.addmm(bias, input, weight.t())\n",
      "KeyboardInterrupt\n"
     ]
    }
   ],
   "source": [
    "# !python experiments/regressor.py\n",
    "%cd /notebooks/CoordConv-pytorch/experiments/gan/munit\n",
    "!python train_layout.py"
   ]
  },
  {
   "cell_type": "code",
   "execution_count": 388,
   "metadata": {},
   "outputs": [
    {
     "ename": "ModuleNotFoundError",
     "evalue": "No module named 'coordconv'",
     "output_type": "error",
     "traceback": [
      "\u001b[0;31m\u001b[0m",
      "\u001b[0;31mModuleNotFoundError\u001b[0mTraceback (most recent call last)",
      "\u001b[0;32m<ipython-input-388-a9d106244b5e>\u001b[0m in \u001b[0;36m<module>\u001b[0;34m\u001b[0m\n\u001b[1;32m      6\u001b[0m \u001b[0;32mfrom\u001b[0m \u001b[0mPIL\u001b[0m \u001b[0;32mimport\u001b[0m \u001b[0mImage\u001b[0m\u001b[0;34m,\u001b[0m \u001b[0mImageDraw\u001b[0m\u001b[0;34m\u001b[0m\u001b[0;34m\u001b[0m\u001b[0m\n\u001b[1;32m      7\u001b[0m \u001b[0;32mfrom\u001b[0m \u001b[0mtorchsummary\u001b[0m \u001b[0;32mimport\u001b[0m \u001b[0msummary\u001b[0m\u001b[0;34m\u001b[0m\u001b[0;34m\u001b[0m\u001b[0m\n\u001b[0;32m----> 8\u001b[0;31m \u001b[0;32mfrom\u001b[0m \u001b[0mcoordconv\u001b[0m \u001b[0;32mimport\u001b[0m \u001b[0mAddCoords\u001b[0m\u001b[0;34m\u001b[0m\u001b[0;34m\u001b[0m\u001b[0m\n\u001b[0m\u001b[1;32m      9\u001b[0m \u001b[0;34m\u001b[0m\u001b[0m\n\u001b[1;32m     10\u001b[0m \u001b[0;32mclass\u001b[0m \u001b[0mSimpleNet\u001b[0m\u001b[0;34m(\u001b[0m\u001b[0mnn\u001b[0m\u001b[0;34m.\u001b[0m\u001b[0mModule\u001b[0m\u001b[0;34m)\u001b[0m\u001b[0;34m:\u001b[0m\u001b[0;34m\u001b[0m\u001b[0;34m\u001b[0m\u001b[0m\n",
      "\u001b[0;31mModuleNotFoundError\u001b[0m: No module named 'coordconv'"
     ]
    }
   ],
   "source": []
  },
  {
   "cell_type": "code",
   "execution_count": 18,
   "metadata": {},
   "outputs": [
    {
     "ename": "NameError",
     "evalue": "name 'draw' is not defined",
     "output_type": "error",
     "traceback": [
      "\u001b[0;31m\u001b[0m",
      "\u001b[0;31mNameError\u001b[0mTraceback (most recent call last)",
      "\u001b[0;32m<ipython-input-18-f3b73bd85ac6>\u001b[0m in \u001b[0;36m<module>\u001b[0;34m\u001b[0m\n\u001b[1;32m     16\u001b[0m     \u001b[0;32mreturn\u001b[0m \u001b[0mim\u001b[0m\u001b[0;34m\u001b[0m\u001b[0;34m\u001b[0m\u001b[0m\n\u001b[1;32m     17\u001b[0m \u001b[0;34m\u001b[0m\u001b[0m\n\u001b[0;32m---> 18\u001b[0;31m \u001b[0mdraw\u001b[0m\u001b[0;34m\u001b[0m\u001b[0;34m\u001b[0m\u001b[0m\n\u001b[0m",
      "\u001b[0;31mNameError\u001b[0m: name 'draw' is not defined"
     ]
    }
   ],
   "source": [
    "def norm(x, width):\n",
    "    return (int)(x * (width - 1) + 0.5)\n",
    "\n",
    "\n",
    "def draw_rect(points, width=64):\n",
    "    x0, y0, x1, y1 = points\n",
    "    x0 = norm(x0, width)\n",
    "    y0 = norm(y0, width)\n",
    "    x1 = norm(x1, width)\n",
    "    y1 = norm(y1, width)\n",
    "    im = Image.new(\"F\", (width, width))\n",
    "    draw = ImageDraw.Draw(im)\n",
    "    draw.rectangle([x0, y0, x1, y1], fill=1)\n",
    "    im = np.array(im)  # (H, W)\n",
    "    im = np.expand_dims(im, axis=-1)  # (H, W, 1)\n",
    "    return im"
   ]
  },
  {
   "cell_type": "code",
   "execution_count": null,
   "metadata": {},
   "outputs": [],
   "source": []
  }
 ],
 "metadata": {
  "kernelspec": {
   "display_name": "Python 3",
   "language": "python",
   "name": "python3"
  },
  "language_info": {
   "codemirror_mode": {
    "name": "ipython",
    "version": 3
   },
   "file_extension": ".py",
   "mimetype": "text/x-python",
   "name": "python",
   "nbconvert_exporter": "python",
   "pygments_lexer": "ipython3",
   "version": "3.6.7"
  }
 },
 "nbformat": 4,
 "nbformat_minor": 2
}
