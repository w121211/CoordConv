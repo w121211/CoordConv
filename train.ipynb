{
 "cells": [
  {
   "cell_type": "code",
   "execution_count": 14,
   "metadata": {},
   "outputs": [
    {
     "name": "stdout",
     "output_type": "stream",
     "text": [
      "Collecting torchsummary\n",
      "  Downloading https://files.pythonhosted.org/packages/7d/18/1474d06f721b86e6a9b9d7392ad68bed711a02f3b61ac43f13c719db50a6/torchsummary-1.5.1-py3-none-any.whl\n",
      "Installing collected packages: torchsummary\n",
      "Successfully installed torchsummary-1.5.1\n"
     ]
    }
   ],
   "source": [
    "!pip install torchsummary"
   ]
  },
  {
   "cell_type": "code",
   "execution_count": 24,
   "metadata": {},
   "outputs": [
    {
     "name": "stdout",
     "output_type": "stream",
     "text": [
      "/workspace/CoordConv-pytorch/gan-textbox\n",
      "torch.Size([1, 5, 64, 64])\n",
      "torch.Size([1, 5, 64, 64])\n",
      "[Epoch 0/1000] [Batch 0/10] [D loss: 2.004329] [G loss: 0.000547]\n",
      "torch.Size([1, 5, 64, 64])\n",
      "torch.Size([1, 5, 64, 64])\n",
      "torch.Size([1, 5, 64, 64])\n",
      "torch.Size([1, 5, 64, 64])\n",
      "torch.Size([1, 5, 64, 64])\n",
      "torch.Size([1, 5, 64, 64])\n",
      "torch.Size([1, 5, 64, 64])\n",
      "torch.Size([1, 5, 64, 64])\n",
      "torch.Size([1, 5, 64, 64])\n",
      "torch.Size([1, 5, 64, 64])\n",
      "torch.Size([1, 5, 64, 64])\n",
      "torch.Size([1, 5, 64, 64])\n",
      "torch.Size([1, 5, 64, 64])\n",
      "torch.Size([1, 5, 64, 64])\n",
      "torch.Size([1, 5, 64, 64])\n",
      "torch.Size([1, 5, 64, 64])\n",
      "torch.Size([1, 5, 64, 64])\n",
      "torch.Size([1, 5, 64, 64])\n",
      "torch.Size([1, 5, 64, 64])\n",
      "torch.Size([1, 5, 64, 64])\n",
      "torch.Size([1, 5, 64, 64])\n",
      "torch.Size([1, 5, 64, 64])\n",
      "torch.Size([1, 5, 64, 64])\n",
      "torch.Size([1, 5, 64, 64])\n",
      "torch.Size([1, 5, 64, 64])\n",
      "^C\n",
      "Traceback (most recent call last):\n",
      "  File \"train_toy_step_gan_2.py\", line 461, in <module>\n",
      "    trainer.train()\n",
      "  File \"train_toy_step_gan_2.py\", line 376, in train\n",
      "    d_loss.backward()\n",
      "  File \"/opt/conda/lib/python3.6/site-packages/torch/tensor.py\", line 118, in backward\n",
      "    torch.autograd.backward(self, gradient, retain_graph, create_graph)\n",
      "  File \"/opt/conda/lib/python3.6/site-packages/torch/autograd/__init__.py\", line 93, in backward\n",
      "    allow_unreachable=True)  # allow_unreachable flag\n",
      "KeyboardInterrupt\n"
     ]
    }
   ],
   "source": [
    "%cd /workspace/CoordConv-pytorch/gan-textbox\n",
    "!rm -R ./out/samples/\n",
    "# !python train_toy_param_comnist_vae.py --imsize=32 --im_channels=1 --batch_size=32 --n_critic=5\n",
    "!python train_toy_step_gan_2.py --imsize=64 --im_channels=3 --batch_size=1 --n_critic=1 --z_dim=32 --adv_loss=hinge --n_samples=10"
   ]
  },
  {
   "cell_type": "code",
   "execution_count": null,
   "metadata": {},
   "outputs": [],
   "source": [
    "%cd /notebooks/CoordConv-pytorch/gan-textbox\n",
    "# %cd /content/CoordConv/gan-textbox\n",
    "\n",
    "# !rm -R ./out/samples/\n",
    "# !python train_toy_craft_layout.py --imsize=64 --batch_size=1 --im_channels=1 --adv_loss=hinge\n",
    "\n",
    "# !rm -R ./images\n",
    "# !python train_font_transfer.py --batch_size=16 --checkpoint_interval=4000 --n_epoch=1000\n",
    "# !python train_toy_pasteline.py --img_size=64 --n_epochs=10000 --sample_interval=1000\n",
    "\n",
    "!rm -R ./out/samples/\n",
    "!python train_toy_param_font.py --imsize=128 --batch_size=1 --im_channels=1 --adv_loss=hinge"
   ]
  },
  {
   "cell_type": "code",
   "execution_count": null,
   "metadata": {},
   "outputs": [],
   "source": [
    "# create font image dataset\n",
    "%cd /notebooks/CoordConv-pytorch/font2img\n",
    "!python font2img.py \\\n",
    "    /notebooks/post-generator/asset/fonts_en/Monoton \\\n",
    "    /notebooks/CoordConv-pytorch/font2img/src_chars_txt/alphabets_hankaku_caps.txt \\\n",
    "    /notebooks/CoordConv-pytorch/data/fontimg\n",
    "#     --by-char\n",
    "\n",
    "# train Char-GAN\n",
    "# %cd /notebooks/CoordConv-pytorch/gan-char\n",
    "# !python train.py --sample_interval 30"
   ]
  },
  {
   "cell_type": "code",
   "execution_count": null,
   "metadata": {},
   "outputs": [],
   "source": [
    "%cd /notebooks/CoordConv-pytorch/gan-textbox\n",
    "!python train_font_transfer.py --batch_size=1"
   ]
  },
  {
   "cell_type": "code",
   "execution_count": null,
   "metadata": {},
   "outputs": [],
   "source": [
    "%cd /notebooks/CoordConv-pytorch/experiments/gan/munit\n",
    "!rm -R data\n",
    "!rm -R images\n",
    "# !rm -R saved_models\n",
    "!python train_layout_by_params.py --n_epochs=100000 --latent_dim=4 --channels=1 --img_size=64 --n_critic=1 --sample_interval=100"
   ]
  },
  {
   "cell_type": "code",
   "execution_count": null,
   "metadata": {},
   "outputs": [],
   "source": [
    "18//4"
   ]
  }
 ],
 "metadata": {
  "kernelspec": {
   "display_name": "Python 3",
   "language": "python",
   "name": "python3"
  },
  "language_info": {
   "codemirror_mode": {
    "name": "ipython",
    "version": 3
   },
   "file_extension": ".py",
   "mimetype": "text/x-python",
   "name": "python",
   "nbconvert_exporter": "python",
   "pygments_lexer": "ipython3",
   "version": "3.6.9"
  }
 },
 "nbformat": 4,
 "nbformat_minor": 2
}
