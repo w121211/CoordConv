{
 "cells": [
  {
   "cell_type": "code",
   "execution_count": 389,
   "metadata": {},
   "outputs": [
    {
     "name": "stdout",
     "output_type": "stream",
     "text": [
      "loading data...\n",
      "/miniconda/envs/py36/lib/python3.6/site-packages/torch/nn/functional.py:2528: UserWarning: Default upsampling behavior when mode=bilinear is changed to align_corners=False since 0.4.0. Please specify align_corners=True if the old behavior is desired. See the documentation of nn.Upsample for details.\n",
      "  \"See the documentation of nn.Upsample for details.\".format(mode))\n",
      "Train Epoch: 1 [800/800 (100%)] Loss: 0.052440\n",
      "Train Epoch: 2 [800/800 (100%)] Loss: 0.037482\n",
      "Train Epoch: 3 [800/800 (100%)] Loss: 0.020060\n",
      "Train Epoch: 4 [800/800 (100%)] Loss: 0.015117\n",
      "Train Epoch: 5 [800/800 (100%)] Loss: 0.011559\n",
      "Train Epoch: 6 [800/800 (100%)] Loss: 0.010585\n",
      "Train Epoch: 7 [800/800 (100%)] Loss: 0.009793\n",
      "Train Epoch: 8 [800/800 (100%)] Loss: 0.009550\n",
      "Train Epoch: 9 [800/800 (100%)] Loss: 0.008969\n",
      "Train Epoch: 10 [800/800 (100%)] Loss: 0.005121\n",
      "Train Epoch: 11 [800/800 (100%)] Loss: 0.003421\n",
      "Train Epoch: 12 [800/800 (100%)] Loss: 0.005552\n",
      "Train Epoch: 13 [800/800 (100%)] Loss: 0.005076\n",
      "Train Epoch: 14 [800/800 (100%)] Loss: 0.004309\n",
      "^Cain Epoch: 15 [448/800 (54%)] Loss: 0.002271\n",
      "Traceback (most recent call last):\n",
      "  File \"experiments/regressor_rect.py\", line 307, in <module>\n",
      "    train(epoch, model, train_dataloader, optimizer, loss_fn, device)\n",
      "  File \"experiments/regressor_rect.py\", line 254, in train\n",
      "    optimizer.step()\n",
      "  File \"/miniconda/envs/py36/lib/python3.6/site-packages/torch/optim/adam.py\", line 101, in step\n",
      "    denom = exp_avg_sq.sqrt().add_(group['eps'])\n",
      "KeyboardInterrupt\n"
     ]
    }
   ],
   "source": [
    "# !python experiments/regressor.py\n",
    "!python experiments/regressor_rect.py"
   ]
  },
  {
   "cell_type": "code",
   "execution_count": 388,
   "metadata": {},
   "outputs": [
    {
     "ename": "ModuleNotFoundError",
     "evalue": "No module named 'coordconv'",
     "output_type": "error",
     "traceback": [
      "\u001b[0;31m\u001b[0m",
      "\u001b[0;31mModuleNotFoundError\u001b[0mTraceback (most recent call last)",
      "\u001b[0;32m<ipython-input-388-a9d106244b5e>\u001b[0m in \u001b[0;36m<module>\u001b[0;34m\u001b[0m\n\u001b[1;32m      6\u001b[0m \u001b[0;32mfrom\u001b[0m \u001b[0mPIL\u001b[0m \u001b[0;32mimport\u001b[0m \u001b[0mImage\u001b[0m\u001b[0;34m,\u001b[0m \u001b[0mImageDraw\u001b[0m\u001b[0;34m\u001b[0m\u001b[0;34m\u001b[0m\u001b[0m\n\u001b[1;32m      7\u001b[0m \u001b[0;32mfrom\u001b[0m \u001b[0mtorchsummary\u001b[0m \u001b[0;32mimport\u001b[0m \u001b[0msummary\u001b[0m\u001b[0;34m\u001b[0m\u001b[0;34m\u001b[0m\u001b[0m\n\u001b[0;32m----> 8\u001b[0;31m \u001b[0;32mfrom\u001b[0m \u001b[0mcoordconv\u001b[0m \u001b[0;32mimport\u001b[0m \u001b[0mAddCoords\u001b[0m\u001b[0;34m\u001b[0m\u001b[0;34m\u001b[0m\u001b[0m\n\u001b[0m\u001b[1;32m      9\u001b[0m \u001b[0;34m\u001b[0m\u001b[0m\n\u001b[1;32m     10\u001b[0m \u001b[0;32mclass\u001b[0m \u001b[0mSimpleNet\u001b[0m\u001b[0;34m(\u001b[0m\u001b[0mnn\u001b[0m\u001b[0;34m.\u001b[0m\u001b[0mModule\u001b[0m\u001b[0;34m)\u001b[0m\u001b[0;34m:\u001b[0m\u001b[0;34m\u001b[0m\u001b[0;34m\u001b[0m\u001b[0m\n",
      "\u001b[0;31mModuleNotFoundError\u001b[0m: No module named 'coordconv'"
     ]
    }
   ],
   "source": []
  },
  {
   "cell_type": "code",
   "execution_count": 18,
   "metadata": {},
   "outputs": [
    {
     "ename": "NameError",
     "evalue": "name 'draw' is not defined",
     "output_type": "error",
     "traceback": [
      "\u001b[0;31m\u001b[0m",
      "\u001b[0;31mNameError\u001b[0mTraceback (most recent call last)",
      "\u001b[0;32m<ipython-input-18-f3b73bd85ac6>\u001b[0m in \u001b[0;36m<module>\u001b[0;34m\u001b[0m\n\u001b[1;32m     16\u001b[0m     \u001b[0;32mreturn\u001b[0m \u001b[0mim\u001b[0m\u001b[0;34m\u001b[0m\u001b[0;34m\u001b[0m\u001b[0m\n\u001b[1;32m     17\u001b[0m \u001b[0;34m\u001b[0m\u001b[0m\n\u001b[0;32m---> 18\u001b[0;31m \u001b[0mdraw\u001b[0m\u001b[0;34m\u001b[0m\u001b[0;34m\u001b[0m\u001b[0m\n\u001b[0m",
      "\u001b[0;31mNameError\u001b[0m: name 'draw' is not defined"
     ]
    }
   ],
   "source": [
    "def norm(x, width):\n",
    "    return (int)(x * (width - 1) + 0.5)\n",
    "\n",
    "\n",
    "def draw_rect(points, width=64):\n",
    "    x0, y0, x1, y1 = points\n",
    "    x0 = norm(x0, width)\n",
    "    y0 = norm(y0, width)\n",
    "    x1 = norm(x1, width)\n",
    "    y1 = norm(y1, width)\n",
    "    im = Image.new(\"F\", (width, width))\n",
    "    draw = ImageDraw.Draw(im)\n",
    "    draw.rectangle([x0, y0, x1, y1], fill=1)\n",
    "    im = np.array(im)  # (H, W)\n",
    "    im = np.expand_dims(im, axis=-1)  # (H, W, 1)\n",
    "    return im\n",
    "\n",
    "draw"
   ]
  },
  {
   "cell_type": "code",
   "execution_count": null,
   "metadata": {},
   "outputs": [],
   "source": []
  }
 ],
 "metadata": {
  "kernelspec": {
   "display_name": "Python 3",
   "language": "python",
   "name": "python3"
  },
  "language_info": {
   "codemirror_mode": {
    "name": "ipython",
    "version": 3
   },
   "file_extension": ".py",
   "mimetype": "text/x-python",
   "name": "python",
   "nbconvert_exporter": "python",
   "pygments_lexer": "ipython3",
   "version": "3.6.7"
  }
 },
 "nbformat": 4,
 "nbformat_minor": 2
}
