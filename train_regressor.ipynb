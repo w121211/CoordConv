{
 "cells": [
  {
   "cell_type": "code",
   "execution_count": null,
   "metadata": {},
   "outputs": [
    {
     "name": "stdout",
     "output_type": "stream",
     "text": [
      "Train Epoch: 1 [8000/8000 (100%)] Loss: 2.735060\n",
      "Train Epoch: 2 [8000/8000 (100%)] Loss: 1.440997\n",
      "Train Epoch: 3 [8000/8000 (100%)] Loss: 0.690631\n",
      "Train Epoch: 4 [8000/8000 (100%)] Loss: 1.099502\n",
      "Train Epoch: 5 [8000/8000 (100%)] Loss: 1.506256\n",
      "Train Epoch: 6 [8000/8000 (100%)] Loss: 0.956721\n",
      "Train Epoch: 7 [8000/8000 (100%)] Loss: 0.603581\n",
      "Train Epoch: 8 [8000/8000 (100%)] Loss: 1.116940\n",
      "Train Epoch: 9 [8000/8000 (100%)] Loss: 1.720875\n",
      "Train Epoch: 10 [4127/8000 (52%)] Loss: 1.142292\r"
     ]
    }
   ],
   "source": [
    "# !python experiments/regressor.py\n",
    "!python experiments/regressor_rect.py"
   ]
  },
  {
   "cell_type": "code",
   "execution_count": 49,
   "metadata": {},
   "outputs": [
    {
     "name": "stdout",
     "output_type": "stream",
     "text": [
      "[[[0.53376505 0.04693572 0.38587218]\n",
      "  [0.21494464 1.         0.89142348]\n",
      "  [0.68461573 0.01905587 0.94046262]]]\n"
     ]
    },
    {
     "data": {
      "text/plain": [
       "array([0.53376505, 0.04693572, 0.38587218, 0.21494464, 1.        ,\n",
       "       0.89142348, 0.68461573, 0.01905587, 0.94046262])"
      ]
     },
     "execution_count": 49,
     "metadata": {},
     "output_type": "execute_result"
    }
   ],
   "source": [
    "import numpy as np\n",
    "import torch\n",
    "import torch.nn as nn\n",
    "\n",
    "# target = torch.from_numpy(np.array([[0,1,0]], dtype=int))\n",
    "# y = torch.from_numpy(np.random.rand(1, 3))\n",
    "# _, labels = target.max(dim=1)\n",
    "# print(labels)\n",
    "# f = nn.CrossEntropyLoss()\n",
    "# f(y, labels)\n",
    "# x = np.zeros((3,3), dtype=int)\n",
    "x = np.random.rand(1, 3,3)\n",
    "x[0][1][1] = 1\n",
    "print(x)\n",
    "x.reshape(3*3)"
   ]
  },
  {
   "cell_type": "code",
   "execution_count": null,
   "metadata": {},
   "outputs": [],
   "source": [
    "def norm(x, width):\n",
    "    return (int)(x * (width - 1) + 0.5)\n",
    "\n",
    "\n",
    "def draw_rect(points, width=64):\n",
    "    x0, y0, x1, y1 = points\n",
    "    x0 = norm(x0, width)\n",
    "    y0 = norm(y0, width)\n",
    "    x1 = norm(x1, width)\n",
    "    y1 = norm(y1, width)\n",
    "    im = Image.new(\"F\", (width, width))\n",
    "    draw = ImageDraw.Draw(im)\n",
    "    draw.rectangle([x0, y0, x1, y1], fill=1)\n",
    "    im = np.array(im)  # (H, W)\n",
    "    im = np.expand_dims(im, axis=-1)  # (H, W, 1)\n",
    "    return im\n",
    "\n",
    "draw"
   ]
  },
  {
   "cell_type": "code",
   "execution_count": null,
   "metadata": {},
   "outputs": [],
   "source": []
  }
 ],
 "metadata": {
  "kernelspec": {
   "display_name": "Python 3",
   "language": "python",
   "name": "python3"
  },
  "language_info": {
   "codemirror_mode": {
    "name": "ipython",
    "version": 3
   },
   "file_extension": ".py",
   "mimetype": "text/x-python",
   "name": "python",
   "nbconvert_exporter": "python",
   "pygments_lexer": "ipython3",
   "version": "3.6.7"
  }
 },
 "nbformat": 4,
 "nbformat_minor": 2
}
